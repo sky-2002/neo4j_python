{
 "cells": [
  {
   "cell_type": "markdown",
   "id": "0dbde403",
   "metadata": {},
   "source": [
    "## "
   ]
  },
  {
   "cell_type": "code",
   "execution_count": 40,
   "id": "63b76b49",
   "metadata": {},
   "outputs": [],
   "source": [
    "import pandas as pd\n",
    "from neo4j import GraphDatabase\n",
    "import os\n",
    "from dotenv import load_dotenv"
   ]
  },
  {
   "cell_type": "code",
   "execution_count": 42,
   "id": "c0a0012e",
   "metadata": {},
   "outputs": [
    {
     "data": {
      "text/plain": [
       "True"
      ]
     },
     "execution_count": 42,
     "metadata": {},
     "output_type": "execute_result"
    }
   ],
   "source": [
    "load_dotenv()"
   ]
  },
  {
   "cell_type": "code",
   "execution_count": 45,
   "id": "8710f2a2",
   "metadata": {},
   "outputs": [],
   "source": [
    "bolt_url = os.getenv('bolt_url')\n",
    "user = os.getenv('user')\n",
    "password = os.getenv('password')\n",
    "driver = GraphDatabase.driver(bolt_url,auth=(user,password))"
   ]
  },
  {
   "cell_type": "code",
   "execution_count": 4,
   "id": "7f08a1d7",
   "metadata": {},
   "outputs": [],
   "source": [
    "def run_query(query):\n",
    "    with driver.session() as session:\n",
    "        result = session.run(query)\n",
    "        # result contains a dictionary with list of values as a value\n",
    "        return pd.DataFrame([r.values() for r in result],columns=result.keys())"
   ]
  },
  {
   "cell_type": "code",
   "execution_count": 7,
   "id": "10cda509",
   "metadata": {},
   "outputs": [
    {
     "data": {
      "text/html": [
       "<div>\n",
       "<style scoped>\n",
       "    .dataframe tbody tr th:only-of-type {\n",
       "        vertical-align: middle;\n",
       "    }\n",
       "\n",
       "    .dataframe tbody tr th {\n",
       "        vertical-align: top;\n",
       "    }\n",
       "\n",
       "    .dataframe thead th {\n",
       "        text-align: right;\n",
       "    }\n",
       "</style>\n",
       "<table border=\"1\" class=\"dataframe\">\n",
       "  <thead>\n",
       "    <tr style=\"text-align: right;\">\n",
       "      <th></th>\n",
       "      <th>label</th>\n",
       "      <th>key</th>\n",
       "      <th>keys</th>\n",
       "      <th>unique</th>\n",
       "      <th>action</th>\n",
       "    </tr>\n",
       "  </thead>\n",
       "  <tbody>\n",
       "    <tr>\n",
       "      <th>0</th>\n",
       "      <td>City</td>\n",
       "      <td>id</td>\n",
       "      <td>[id]</td>\n",
       "      <td>True</td>\n",
       "      <td>DROPPED</td>\n",
       "    </tr>\n",
       "  </tbody>\n",
       "</table>\n",
       "</div>"
      ],
      "text/plain": [
       "  label key  keys  unique   action\n",
       "0  City  id  [id]    True  DROPPED"
      ]
     },
     "execution_count": 7,
     "metadata": {},
     "output_type": "execute_result"
    }
   ],
   "source": [
    "run_query(\"\"\"\n",
    "CALL apoc.schema.assert({}, {})\n",
    "\"\"\")\n",
    "# Run this to drop all constraints\n",
    "\n",
    "# To drop specific constraints, use DROP CONSTRAINT ON (c:City) ASSERT c.id IS UNIQUE"
   ]
  },
  {
   "cell_type": "code",
   "execution_count": 8,
   "id": "a4e7bdcf",
   "metadata": {},
   "outputs": [
    {
     "data": {
      "text/html": [
       "<div>\n",
       "<style scoped>\n",
       "    .dataframe tbody tr th:only-of-type {\n",
       "        vertical-align: middle;\n",
       "    }\n",
       "\n",
       "    .dataframe tbody tr th {\n",
       "        vertical-align: top;\n",
       "    }\n",
       "\n",
       "    .dataframe thead th {\n",
       "        text-align: right;\n",
       "    }\n",
       "</style>\n",
       "<table border=\"1\" class=\"dataframe\">\n",
       "  <thead>\n",
       "    <tr style=\"text-align: right;\">\n",
       "      <th></th>\n",
       "    </tr>\n",
       "  </thead>\n",
       "  <tbody>\n",
       "  </tbody>\n",
       "</table>\n",
       "</div>"
      ],
      "text/plain": [
       "Empty DataFrame\n",
       "Columns: []\n",
       "Index: []"
      ]
     },
     "execution_count": 8,
     "metadata": {},
     "output_type": "execute_result"
    }
   ],
   "source": [
    "run_query(\"\"\"\n",
    "CREATE CONSTRAINT IF NOT EXISTS ON (c:City) ASSERT c.id IS UNIQUE;\n",
    "\"\"\")"
   ]
  },
  {
   "cell_type": "code",
   "execution_count": 9,
   "id": "e9d6a597",
   "metadata": {
    "scrolled": true
   },
   "outputs": [
    {
     "data": {
      "text/html": [
       "<div>\n",
       "<style scoped>\n",
       "    .dataframe tbody tr th:only-of-type {\n",
       "        vertical-align: middle;\n",
       "    }\n",
       "\n",
       "    .dataframe tbody tr th {\n",
       "        vertical-align: top;\n",
       "    }\n",
       "\n",
       "    .dataframe thead th {\n",
       "        text-align: right;\n",
       "    }\n",
       "</style>\n",
       "<table border=\"1\" class=\"dataframe\">\n",
       "  <thead>\n",
       "    <tr style=\"text-align: right;\">\n",
       "      <th></th>\n",
       "      <th>batches</th>\n",
       "      <th>total</th>\n",
       "      <th>timeTaken</th>\n",
       "      <th>committedOperations</th>\n",
       "      <th>failedOperations</th>\n",
       "      <th>failedBatches</th>\n",
       "      <th>retries</th>\n",
       "      <th>errorMessages</th>\n",
       "      <th>batch</th>\n",
       "      <th>operations</th>\n",
       "      <th>wasTerminated</th>\n",
       "      <th>failedParams</th>\n",
       "      <th>updateStatistics</th>\n",
       "    </tr>\n",
       "  </thead>\n",
       "  <tbody>\n",
       "    <tr>\n",
       "      <th>0</th>\n",
       "      <td>34</td>\n",
       "      <td>332</td>\n",
       "      <td>25</td>\n",
       "      <td>332</td>\n",
       "      <td>0</td>\n",
       "      <td>0</td>\n",
       "      <td>0</td>\n",
       "      <td>{}</td>\n",
       "      <td>{'total': 34, 'committed': 34, 'failed': 0, 'e...</td>\n",
       "      <td>{'total': 332, 'committed': 332, 'failed': 0, ...</td>\n",
       "      <td>False</td>\n",
       "      <td>{}</td>\n",
       "      <td>{'nodesDeleted': 0, 'labelsAdded': 332, 'relat...</td>\n",
       "    </tr>\n",
       "  </tbody>\n",
       "</table>\n",
       "</div>"
      ],
      "text/plain": [
       "   batches  total  timeTaken  committedOperations  failedOperations  \\\n",
       "0       34    332         25                  332                 0   \n",
       "\n",
       "   failedBatches  retries errorMessages  \\\n",
       "0              0        0            {}   \n",
       "\n",
       "                                               batch  \\\n",
       "0  {'total': 34, 'committed': 34, 'failed': 0, 'e...   \n",
       "\n",
       "                                          operations  wasTerminated  \\\n",
       "0  {'total': 332, 'committed': 332, 'failed': 0, ...          False   \n",
       "\n",
       "  failedParams                                   updateStatistics  \n",
       "0           {}  {'nodesDeleted': 0, 'labelsAdded': 332, 'relat...  "
      ]
     },
     "execution_count": 9,
     "metadata": {},
     "output_type": "execute_result"
    }
   ],
   "source": [
    "run_query(\"\"\"\n",
    "CALL apoc.periodic.iterate('\n",
    "  CALL apoc.load.json(\"https://nomadlist.com/graph.json\")\n",
    "  YIELD value\n",
    "  WITH value, [x in keys(value) WHERE x <> \"README\" | x] AS keys\n",
    "  UNWIND keys AS source_city\n",
    "  WITH source_city, value\n",
    "  RETURN source_city, value\n",
    "','\n",
    "  MERGE (s:City{name:source_city})\n",
    "  WITH value[source_city] as destinations, s\n",
    "  WHERE destinations <> []\n",
    "  WITH destinations, keys(destinations) as destination_cities, s\n",
    "  UNWIND destination_cities AS destination_city\n",
    "  MERGE (t:City{name:destination_city})\n",
    "  MERGE (s)-[r:TRAVEL_TO]->(t)\n",
    "  SET r.weight = destinations[destination_city]', \n",
    "  {batchSize:10})\n",
    "\"\"\")"
   ]
  },
  {
   "cell_type": "code",
   "execution_count": 10,
   "id": "ef71a0e3",
   "metadata": {},
   "outputs": [
    {
     "data": {
      "text/html": [
       "<div>\n",
       "<style scoped>\n",
       "    .dataframe tbody tr th:only-of-type {\n",
       "        vertical-align: middle;\n",
       "    }\n",
       "\n",
       "    .dataframe tbody tr th {\n",
       "        vertical-align: top;\n",
       "    }\n",
       "\n",
       "    .dataframe thead th {\n",
       "        text-align: right;\n",
       "    }\n",
       "</style>\n",
       "<table border=\"1\" class=\"dataframe\">\n",
       "  <thead>\n",
       "    <tr style=\"text-align: right;\">\n",
       "      <th></th>\n",
       "    </tr>\n",
       "  </thead>\n",
       "  <tbody>\n",
       "  </tbody>\n",
       "</table>\n",
       "</div>"
      ],
      "text/plain": [
       "Empty DataFrame\n",
       "Columns: []\n",
       "Index: []"
      ]
     },
     "execution_count": 10,
     "metadata": {},
     "output_type": "execute_result"
    }
   ],
   "source": [
    "run_query(\"\"\"\n",
    "LOAD CSV WITH HEADERS FROM \"https://raw.githubusercontent.com/tomasonjo/blog-datasets/main/nomad/nomad_cities_location.csv\" as row\n",
    "MATCH (c:City)\n",
    "WHERE c.name = row.city\n",
    "SET c.location = point({latitude:toFloat(row.latitude), longitude:toFloat(row.longitude)})\n",
    "\"\"\")"
   ]
  },
  {
   "cell_type": "markdown",
   "id": "035861dd",
   "metadata": {},
   "source": [
    "# The entire graph<br>\n",
    "![](./entire-graph.svg)"
   ]
  },
  {
   "cell_type": "markdown",
   "id": "42fbaacb",
   "metadata": {},
   "source": [
    "#  Exploratory Graph Analysis"
   ]
  },
  {
   "cell_type": "code",
   "execution_count": 12,
   "id": "038935dc",
   "metadata": {},
   "outputs": [
    {
     "data": {
      "text/html": [
       "<div>\n",
       "<style scoped>\n",
       "    .dataframe tbody tr th:only-of-type {\n",
       "        vertical-align: middle;\n",
       "    }\n",
       "\n",
       "    .dataframe tbody tr th {\n",
       "        vertical-align: top;\n",
       "    }\n",
       "\n",
       "    .dataframe thead th {\n",
       "        text-align: right;\n",
       "    }\n",
       "</style>\n",
       "<table border=\"1\" class=\"dataframe\">\n",
       "  <thead>\n",
       "    <tr style=\"text-align: right;\">\n",
       "      <th></th>\n",
       "    </tr>\n",
       "  </thead>\n",
       "  <tbody>\n",
       "  </tbody>\n",
       "</table>\n",
       "</div>"
      ],
      "text/plain": [
       "Empty DataFrame\n",
       "Columns: []\n",
       "Index: []"
      ]
     },
     "execution_count": 12,
     "metadata": {},
     "output_type": "execute_result"
    }
   ],
   "source": [
    "run_query(\"\"\"\n",
    "MATCH (s:City)-[r:TRAVEL_TO]->(t:City)\n",
    "WITH r,distance(s.location, t.location) / 1000 AS distanceInKm\n",
    "SET r.distance = distanceInKm\n",
    "\"\"\")"
   ]
  },
  {
   "cell_type": "markdown",
   "id": "015c82ba",
   "metadata": {},
   "source": [
    "## A sub graph from the entire graph \n",
    "###  Query used was \n",
    "#### MATCH p=()-[r:TRAVEL_TO]->()\n",
    "#### RETURN p LIMIT 25 <br>\n",
    "![](./sub-graph.svg)"
   ]
  },
  {
   "cell_type": "code",
   "execution_count": 13,
   "id": "2a833885",
   "metadata": {},
   "outputs": [
    {
     "data": {
      "text/html": [
       "<div>\n",
       "<style scoped>\n",
       "    .dataframe tbody tr th:only-of-type {\n",
       "        vertical-align: middle;\n",
       "    }\n",
       "\n",
       "    .dataframe tbody tr th {\n",
       "        vertical-align: top;\n",
       "    }\n",
       "\n",
       "    .dataframe thead th {\n",
       "        text-align: right;\n",
       "    }\n",
       "</style>\n",
       "<table border=\"1\" class=\"dataframe\">\n",
       "  <thead>\n",
       "    <tr style=\"text-align: right;\">\n",
       "      <th></th>\n",
       "      <th>all_travels</th>\n",
       "    </tr>\n",
       "  </thead>\n",
       "  <tbody>\n",
       "    <tr>\n",
       "      <th>0</th>\n",
       "      <td>32709</td>\n",
       "    </tr>\n",
       "  </tbody>\n",
       "</table>\n",
       "</div>"
      ],
      "text/plain": [
       "   all_travels\n",
       "0        32709"
      ]
     },
     "execution_count": 13,
     "metadata": {},
     "output_type": "execute_result"
    }
   ],
   "source": [
    "# Total sum of weight property\n",
    "run_query(\"\"\"\n",
    "MATCH p=()-[r:TRAVEL_TO]->()\n",
    "RETURN sum(r.weight) as all_travels\n",
    "\"\"\")"
   ]
  },
  {
   "cell_type": "code",
   "execution_count": 14,
   "id": "814417ac",
   "metadata": {},
   "outputs": [
    {
     "data": {
      "text/html": [
       "<div>\n",
       "<style scoped>\n",
       "    .dataframe tbody tr th:only-of-type {\n",
       "        vertical-align: middle;\n",
       "    }\n",
       "\n",
       "    .dataframe tbody tr th {\n",
       "        vertical-align: top;\n",
       "    }\n",
       "\n",
       "    .dataframe thead th {\n",
       "        text-align: right;\n",
       "    }\n",
       "</style>\n",
       "<table border=\"1\" class=\"dataframe\">\n",
       "  <thead>\n",
       "    <tr style=\"text-align: right;\">\n",
       "      <th></th>\n",
       "      <th>city</th>\n",
       "      <th>travels</th>\n",
       "    </tr>\n",
       "  </thead>\n",
       "  <tbody>\n",
       "    <tr>\n",
       "      <th>0</th>\n",
       "      <td>bangkok-thailand</td>\n",
       "      <td>1814</td>\n",
       "    </tr>\n",
       "    <tr>\n",
       "      <th>1</th>\n",
       "      <td>new-york-city-ny-united-states</td>\n",
       "      <td>1591</td>\n",
       "    </tr>\n",
       "    <tr>\n",
       "      <th>2</th>\n",
       "      <td>chiang-mai-thailand</td>\n",
       "      <td>1210</td>\n",
       "    </tr>\n",
       "    <tr>\n",
       "      <th>3</th>\n",
       "      <td>san-francisco-ca-united-states</td>\n",
       "      <td>1149</td>\n",
       "    </tr>\n",
       "    <tr>\n",
       "      <th>4</th>\n",
       "      <td>berlin-germany</td>\n",
       "      <td>1078</td>\n",
       "    </tr>\n",
       "    <tr>\n",
       "      <th>5</th>\n",
       "      <td>singapore-singapore</td>\n",
       "      <td>1077</td>\n",
       "    </tr>\n",
       "    <tr>\n",
       "      <th>6</th>\n",
       "      <td>los-angeles-ca-united-states</td>\n",
       "      <td>979</td>\n",
       "    </tr>\n",
       "    <tr>\n",
       "      <th>7</th>\n",
       "      <td>lisbon-portugal</td>\n",
       "      <td>934</td>\n",
       "    </tr>\n",
       "    <tr>\n",
       "      <th>8</th>\n",
       "      <td>barcelona-spain</td>\n",
       "      <td>906</td>\n",
       "    </tr>\n",
       "    <tr>\n",
       "      <th>9</th>\n",
       "      <td>mexico-city-mexico</td>\n",
       "      <td>886</td>\n",
       "    </tr>\n",
       "  </tbody>\n",
       "</table>\n",
       "</div>"
      ],
      "text/plain": [
       "                             city  travels\n",
       "0                bangkok-thailand     1814\n",
       "1  new-york-city-ny-united-states     1591\n",
       "2             chiang-mai-thailand     1210\n",
       "3  san-francisco-ca-united-states     1149\n",
       "4                  berlin-germany     1078\n",
       "5             singapore-singapore     1077\n",
       "6    los-angeles-ca-united-states      979\n",
       "7                 lisbon-portugal      934\n",
       "8                 barcelona-spain      906\n",
       "9              mexico-city-mexico      886"
      ]
     },
     "execution_count": 14,
     "metadata": {},
     "output_type": "execute_result"
    }
   ],
   "source": [
    "# Identifying popular destinations\n",
    "run_query(\"\"\"\n",
    "MATCH (c:City)<-[r:TRAVEL_TO]-()\n",
    "RETURN c.name as city, sum(r.weight) as travels\n",
    "ORDER BY travels DESC\n",
    "LIMIT 10\n",
    "\"\"\")"
   ]
  },
  {
   "cell_type": "code",
   "execution_count": 16,
   "id": "63facf2d",
   "metadata": {},
   "outputs": [
    {
     "data": {
      "text/html": [
       "<div>\n",
       "<style scoped>\n",
       "    .dataframe tbody tr th:only-of-type {\n",
       "        vertical-align: middle;\n",
       "    }\n",
       "\n",
       "    .dataframe tbody tr th {\n",
       "        vertical-align: top;\n",
       "    }\n",
       "\n",
       "    .dataframe thead th {\n",
       "        text-align: right;\n",
       "    }\n",
       "</style>\n",
       "<table border=\"1\" class=\"dataframe\">\n",
       "  <thead>\n",
       "    <tr style=\"text-align: right;\">\n",
       "      <th></th>\n",
       "      <th>within_500</th>\n",
       "      <th>within_1000</th>\n",
       "      <th>within_2000</th>\n",
       "      <th>within_3000</th>\n",
       "      <th>within_4000</th>\n",
       "      <th>rest</th>\n",
       "    </tr>\n",
       "  </thead>\n",
       "  <tbody>\n",
       "    <tr>\n",
       "      <th>0</th>\n",
       "      <td>0.273411</td>\n",
       "      <td>0.190376</td>\n",
       "      <td>0.183099</td>\n",
       "      <td>0.103121</td>\n",
       "      <td>0.057232</td>\n",
       "      <td>0.101195</td>\n",
       "    </tr>\n",
       "  </tbody>\n",
       "</table>\n",
       "</div>"
      ],
      "text/plain": [
       "   within_500  within_1000  within_2000  within_3000  within_4000      rest\n",
       "0    0.273411     0.190376     0.183099     0.103121     0.057232  0.101195"
      ]
     },
     "execution_count": 16,
     "metadata": {},
     "output_type": "execute_result"
    }
   ],
   "source": [
    "# how far do people travel on an average\n",
    "run_query(\"\"\"\n",
    "MATCH ()-[r:TRAVEL_TO]->()\n",
    "RETURN sum(CASE WHEN r.distance < 500 THEN r.weight END) \n",
    "          / toFloat(sum(r.weight)) AS within_500,\n",
    "sum(CASE WHEN 500 < r.distance < 1000 THEN r.weight END) \n",
    "          / toFloat(sum(r.weight)) AS within_1000,\n",
    "sum(CASE WHEN 1000 < r.distance < 2000 THEN r.weight END) \n",
    "          / toFloat(sum(r.weight)) AS within_2000,\n",
    "sum(CASE WHEN 2000 < r.distance < 3000  THEN r.weight END) \n",
    "          / toFloat(sum(r.weight)) AS within_3000,\n",
    "sum(CASE WHEN 3000 < r.distance < 4000  THEN r.weight END) \n",
    "          / toFloat(sum(r.weight)) AS within_4000,\n",
    "sum(CASE WHEN 4000 < r.distance  THEN r.weight END) \n",
    "          / toFloat(sum(r.weight)) AS rest\n",
    "\"\"\")"
   ]
  },
  {
   "cell_type": "markdown",
   "id": "233b8f33",
   "metadata": {},
   "source": [
    "## Graph Data Science"
   ]
  },
  {
   "cell_type": "code",
   "execution_count": 4,
   "id": "8c8e7b22",
   "metadata": {},
   "outputs": [
    {
     "data": {
      "text/html": [
       "<div>\n",
       "<style scoped>\n",
       "    .dataframe tbody tr th:only-of-type {\n",
       "        vertical-align: middle;\n",
       "    }\n",
       "\n",
       "    .dataframe tbody tr th {\n",
       "        vertical-align: top;\n",
       "    }\n",
       "\n",
       "    .dataframe thead th {\n",
       "        text-align: right;\n",
       "    }\n",
       "</style>\n",
       "<table border=\"1\" class=\"dataframe\">\n",
       "  <thead>\n",
       "    <tr style=\"text-align: right;\">\n",
       "      <th></th>\n",
       "      <th>nodeProjection</th>\n",
       "      <th>relationshipProjection</th>\n",
       "      <th>graphName</th>\n",
       "      <th>nodeCount</th>\n",
       "      <th>relationshipCount</th>\n",
       "      <th>projectMillis</th>\n",
       "    </tr>\n",
       "  </thead>\n",
       "  <tbody>\n",
       "    <tr>\n",
       "      <th>0</th>\n",
       "      <td>{'City': {'label': 'City', 'properties': {}}}</td>\n",
       "      <td>{'TRAVEL_TO': {'orientation': 'NATURAL', 'aggr...</td>\n",
       "      <td>nomad</td>\n",
       "      <td>332</td>\n",
       "      <td>2554</td>\n",
       "      <td>218</td>\n",
       "    </tr>\n",
       "  </tbody>\n",
       "</table>\n",
       "</div>"
      ],
      "text/plain": [
       "                                  nodeProjection  \\\n",
       "0  {'City': {'label': 'City', 'properties': {}}}   \n",
       "\n",
       "                              relationshipProjection graphName  nodeCount  \\\n",
       "0  {'TRAVEL_TO': {'orientation': 'NATURAL', 'aggr...     nomad        332   \n",
       "\n",
       "   relationshipCount  projectMillis  \n",
       "0               2554            218  "
      ]
     },
     "execution_count": 4,
     "metadata": {},
     "output_type": "execute_result"
    }
   ],
   "source": [
    "run_query(\"\"\"\n",
    "CALL gds.graph.project('nomad', 'City', 'TRAVEL_TO', {relationshipProperties:'weight'});\n",
    "\"\"\")"
   ]
  },
  {
   "cell_type": "code",
   "execution_count": 5,
   "id": "e1c26fc9",
   "metadata": {},
   "outputs": [
    {
     "data": {
      "text/html": [
       "<div>\n",
       "<style scoped>\n",
       "    .dataframe tbody tr th:only-of-type {\n",
       "        vertical-align: middle;\n",
       "    }\n",
       "\n",
       "    .dataframe tbody tr th {\n",
       "        vertical-align: top;\n",
       "    }\n",
       "\n",
       "    .dataframe thead th {\n",
       "        text-align: right;\n",
       "    }\n",
       "</style>\n",
       "<table border=\"1\" class=\"dataframe\">\n",
       "  <thead>\n",
       "    <tr style=\"text-align: right;\">\n",
       "      <th></th>\n",
       "      <th>componentCount</th>\n",
       "      <th>componentDistribution</th>\n",
       "    </tr>\n",
       "  </thead>\n",
       "  <tbody>\n",
       "    <tr>\n",
       "      <th>0</th>\n",
       "      <td>26</td>\n",
       "      <td>{'p99': 307, 'min': 1, 'max': 307, 'mean': 12....</td>\n",
       "    </tr>\n",
       "  </tbody>\n",
       "</table>\n",
       "</div>"
      ],
      "text/plain": [
       "   componentCount                              componentDistribution\n",
       "0              26  {'p99': 307, 'min': 1, 'max': 307, 'mean': 12...."
      ]
     },
     "execution_count": 5,
     "metadata": {},
     "output_type": "execute_result"
    }
   ],
   "source": [
    "# Weakly connected components\n",
    "wcc = run_query(\"\"\"\n",
    "CALL gds.wcc.stats('nomad')\n",
    "YIELD componentCount, componentDistribution;\n",
    "\"\"\")\n",
    "wcc\n",
    "# What we can infer from here is that \n",
    "# 1. There are 26 weakly connected/ or disconnected components\n",
    "# 2. There is a super component with 307 members\n",
    "# 3. There are 25 components "
   ]
  },
  {
   "cell_type": "code",
   "execution_count": 7,
   "id": "80db280d",
   "metadata": {},
   "outputs": [
    {
     "name": "stdout",
     "output_type": "stream",
     "text": [
      "0    {'p99': 307, 'min': 1, 'max': 307, 'mean': 12....\n",
      "Name: componentDistribution, dtype: object\n"
     ]
    }
   ],
   "source": [
    "print(wcc['componentDistribution'])"
   ]
  },
  {
   "cell_type": "code",
   "execution_count": 8,
   "id": "0fdf60a3",
   "metadata": {},
   "outputs": [
    {
     "data": {
      "text/html": [
       "<div>\n",
       "<style scoped>\n",
       "    .dataframe tbody tr th:only-of-type {\n",
       "        vertical-align: middle;\n",
       "    }\n",
       "\n",
       "    .dataframe tbody tr th {\n",
       "        vertical-align: top;\n",
       "    }\n",
       "\n",
       "    .dataframe thead th {\n",
       "        text-align: right;\n",
       "    }\n",
       "</style>\n",
       "<table border=\"1\" class=\"dataframe\">\n",
       "  <thead>\n",
       "    <tr style=\"text-align: right;\">\n",
       "      <th></th>\n",
       "      <th>city</th>\n",
       "    </tr>\n",
       "  </thead>\n",
       "  <tbody>\n",
       "    <tr>\n",
       "      <th>0</th>\n",
       "      <td>hubli-india</td>\n",
       "    </tr>\n",
       "    <tr>\n",
       "      <th>1</th>\n",
       "      <td>eau-claire-wi-united-states</td>\n",
       "    </tr>\n",
       "    <tr>\n",
       "      <th>2</th>\n",
       "      <td>boumerdas-algeria</td>\n",
       "    </tr>\n",
       "    <tr>\n",
       "      <th>3</th>\n",
       "      <td>lubumbashi-dr-congo</td>\n",
       "    </tr>\n",
       "    <tr>\n",
       "      <th>4</th>\n",
       "      <td>kananga-dr-congo</td>\n",
       "    </tr>\n",
       "    <tr>\n",
       "      <th>5</th>\n",
       "      <td>port-said-egypt</td>\n",
       "    </tr>\n",
       "    <tr>\n",
       "      <th>6</th>\n",
       "      <td>mbuji-mayi-dr-congo</td>\n",
       "    </tr>\n",
       "    <tr>\n",
       "      <th>7</th>\n",
       "      <td>duhok-kurdistan</td>\n",
       "    </tr>\n",
       "    <tr>\n",
       "      <th>8</th>\n",
       "      <td>sulaymaniyah-kurdistan</td>\n",
       "    </tr>\n",
       "    <tr>\n",
       "      <th>9</th>\n",
       "      <td>qom-iran</td>\n",
       "    </tr>\n",
       "  </tbody>\n",
       "</table>\n",
       "</div>"
      ],
      "text/plain": [
       "                          city\n",
       "0                  hubli-india\n",
       "1  eau-claire-wi-united-states\n",
       "2            boumerdas-algeria\n",
       "3          lubumbashi-dr-congo\n",
       "4             kananga-dr-congo\n",
       "5              port-said-egypt\n",
       "6          mbuji-mayi-dr-congo\n",
       "7              duhok-kurdistan\n",
       "8       sulaymaniyah-kurdistan\n",
       "9                     qom-iran"
      ]
     },
     "execution_count": 8,
     "metadata": {},
     "output_type": "execute_result"
    }
   ],
   "source": [
    "# Cities that do not have any connection with the outer world\n",
    "run_query('''\n",
    "MATCH (c:City)\n",
    "WHERE NOT (c)--()\n",
    "RETURN c.name as city\n",
    "LIMIT 10;\n",
    "''')"
   ]
  },
  {
   "cell_type": "markdown",
   "id": "5455fc63",
   "metadata": {},
   "source": [
    "### Betweeness centrality"
   ]
  },
  {
   "cell_type": "code",
   "execution_count": 10,
   "id": "6fbce603",
   "metadata": {},
   "outputs": [
    {
     "data": {
      "text/html": [
       "<div>\n",
       "<style scoped>\n",
       "    .dataframe tbody tr th:only-of-type {\n",
       "        vertical-align: middle;\n",
       "    }\n",
       "\n",
       "    .dataframe tbody tr th {\n",
       "        vertical-align: top;\n",
       "    }\n",
       "\n",
       "    .dataframe thead th {\n",
       "        text-align: right;\n",
       "    }\n",
       "</style>\n",
       "<table border=\"1\" class=\"dataframe\">\n",
       "  <thead>\n",
       "    <tr style=\"text-align: right;\">\n",
       "      <th></th>\n",
       "      <th>city</th>\n",
       "      <th>score</th>\n",
       "    </tr>\n",
       "  </thead>\n",
       "  <tbody>\n",
       "    <tr>\n",
       "      <th>0</th>\n",
       "      <td>new-york-city-ny-united-states</td>\n",
       "      <td>8472.207287</td>\n",
       "    </tr>\n",
       "    <tr>\n",
       "      <th>1</th>\n",
       "      <td>dubai-united-arab-emirates</td>\n",
       "      <td>7407.355557</td>\n",
       "    </tr>\n",
       "    <tr>\n",
       "      <th>2</th>\n",
       "      <td>lisbon-portugal</td>\n",
       "      <td>6524.510935</td>\n",
       "    </tr>\n",
       "    <tr>\n",
       "      <th>3</th>\n",
       "      <td>cape-town-south-africa</td>\n",
       "      <td>5824.587856</td>\n",
       "    </tr>\n",
       "    <tr>\n",
       "      <th>4</th>\n",
       "      <td>berlin-germany</td>\n",
       "      <td>4618.986531</td>\n",
       "    </tr>\n",
       "    <tr>\n",
       "      <th>5</th>\n",
       "      <td>valencia-spain</td>\n",
       "      <td>4307.860141</td>\n",
       "    </tr>\n",
       "    <tr>\n",
       "      <th>6</th>\n",
       "      <td>barcelona-spain</td>\n",
       "      <td>4185.178915</td>\n",
       "    </tr>\n",
       "    <tr>\n",
       "      <th>7</th>\n",
       "      <td>bangkok-thailand</td>\n",
       "      <td>4043.790178</td>\n",
       "    </tr>\n",
       "    <tr>\n",
       "      <th>8</th>\n",
       "      <td>cairo-egypt</td>\n",
       "      <td>3627.885578</td>\n",
       "    </tr>\n",
       "    <tr>\n",
       "      <th>9</th>\n",
       "      <td>los-angeles-ca-united-states</td>\n",
       "      <td>3596.666354</td>\n",
       "    </tr>\n",
       "  </tbody>\n",
       "</table>\n",
       "</div>"
      ],
      "text/plain": [
       "                             city        score\n",
       "0  new-york-city-ny-united-states  8472.207287\n",
       "1      dubai-united-arab-emirates  7407.355557\n",
       "2                 lisbon-portugal  6524.510935\n",
       "3          cape-town-south-africa  5824.587856\n",
       "4                  berlin-germany  4618.986531\n",
       "5                  valencia-spain  4307.860141\n",
       "6                 barcelona-spain  4185.178915\n",
       "7                bangkok-thailand  4043.790178\n",
       "8                     cairo-egypt  3627.885578\n",
       "9    los-angeles-ca-united-states  3596.666354"
      ]
     },
     "execution_count": 10,
     "metadata": {},
     "output_type": "execute_result"
    }
   ],
   "source": [
    "bc = run_query('''\n",
    "CALL gds.betweenness.stream('nomad')\n",
    "YIELD nodeId, score\n",
    "RETURN gds.util.asNode(nodeId).name AS city, score\n",
    "ORDER BY score DESC\n",
    "''')\n",
    "bc[:10]"
   ]
  },
  {
   "cell_type": "code",
   "execution_count": 15,
   "id": "fe26bc1e",
   "metadata": {},
   "outputs": [
    {
     "name": "stdout",
     "output_type": "stream",
     "text": [
      "Betweeness centrality added as property\n"
     ]
    }
   ],
   "source": [
    "# Add a property of betweeness centrality to all nodes\n",
    "# label_names = bc['city']\n",
    "# scores = bc['score']\n",
    "\n",
    "# for city, score in zip(label_names,scores):\n",
    "#     query = '''\n",
    "#     MATCH (n {name:' '''+city+''' '})\n",
    "#     SET n.betweenness_cent_score='''+str(score)\n",
    "#     run_query(query)\n",
    "# print(\"Betweeness centrality added as property\") , DID NOT WORK"
   ]
  },
  {
   "cell_type": "code",
   "execution_count": 16,
   "id": "261b979c",
   "metadata": {},
   "outputs": [
    {
     "data": {
      "text/html": [
       "<div>\n",
       "<style scoped>\n",
       "    .dataframe tbody tr th:only-of-type {\n",
       "        vertical-align: middle;\n",
       "    }\n",
       "\n",
       "    .dataframe tbody tr th {\n",
       "        vertical-align: top;\n",
       "    }\n",
       "\n",
       "    .dataframe thead th {\n",
       "        text-align: right;\n",
       "    }\n",
       "</style>\n",
       "<table border=\"1\" class=\"dataframe\">\n",
       "  <thead>\n",
       "    <tr style=\"text-align: right;\">\n",
       "      <th></th>\n",
       "      <th>writeMillis</th>\n",
       "      <th>nodePropertiesWritten</th>\n",
       "      <th>ranIterations</th>\n",
       "      <th>didConverge</th>\n",
       "      <th>centralityDistribution</th>\n",
       "      <th>postProcessingMillis</th>\n",
       "      <th>preProcessingMillis</th>\n",
       "      <th>computeMillis</th>\n",
       "      <th>configuration</th>\n",
       "    </tr>\n",
       "  </thead>\n",
       "  <tbody>\n",
       "    <tr>\n",
       "      <th>0</th>\n",
       "      <td>165</td>\n",
       "      <td>332</td>\n",
       "      <td>20</td>\n",
       "      <td>False</td>\n",
       "      <td>{'p99': 8.755492210388184, 'min': 0.1499996185...</td>\n",
       "      <td>691</td>\n",
       "      <td>1</td>\n",
       "      <td>497</td>\n",
       "      <td>{'maxIterations': 20, 'writeConcurrency': 4, '...</td>\n",
       "    </tr>\n",
       "  </tbody>\n",
       "</table>\n",
       "</div>"
      ],
      "text/plain": [
       "   writeMillis  nodePropertiesWritten  ranIterations  didConverge  \\\n",
       "0          165                    332             20        False   \n",
       "\n",
       "                              centralityDistribution  postProcessingMillis  \\\n",
       "0  {'p99': 8.755492210388184, 'min': 0.1499996185...                   691   \n",
       "\n",
       "   preProcessingMillis  computeMillis  \\\n",
       "0                    1            497   \n",
       "\n",
       "                                       configuration  \n",
       "0  {'maxIterations': 20, 'writeConcurrency': 4, '...  "
      ]
     },
     "execution_count": 16,
     "metadata": {},
     "output_type": "execute_result"
    }
   ],
   "source": [
    "# Add PageRank as property\n",
    "query = '''\n",
    "CALL gds.pageRank.write('nomad', {relationshipWeightProperty:'weight', writeProperty:'pagerank'});\n",
    "'''\n",
    "pr = run_query(query)\n",
    "pr"
   ]
  },
  {
   "cell_type": "code",
   "execution_count": 17,
   "id": "33577dc4",
   "metadata": {},
   "outputs": [
    {
     "data": {
      "text/html": [
       "<div>\n",
       "<style scoped>\n",
       "    .dataframe tbody tr th:only-of-type {\n",
       "        vertical-align: middle;\n",
       "    }\n",
       "\n",
       "    .dataframe tbody tr th {\n",
       "        vertical-align: top;\n",
       "    }\n",
       "\n",
       "    .dataframe thead th {\n",
       "        text-align: right;\n",
       "    }\n",
       "</style>\n",
       "<table border=\"1\" class=\"dataframe\">\n",
       "  <thead>\n",
       "    <tr style=\"text-align: right;\">\n",
       "      <th></th>\n",
       "      <th>writeMillis</th>\n",
       "      <th>nodePropertiesWritten</th>\n",
       "      <th>modularity</th>\n",
       "      <th>modularities</th>\n",
       "      <th>ranLevels</th>\n",
       "      <th>communityCount</th>\n",
       "      <th>communityDistribution</th>\n",
       "      <th>postProcessingMillis</th>\n",
       "      <th>preProcessingMillis</th>\n",
       "      <th>computeMillis</th>\n",
       "      <th>configuration</th>\n",
       "    </tr>\n",
       "  </thead>\n",
       "  <tbody>\n",
       "    <tr>\n",
       "      <th>0</th>\n",
       "      <td>288</td>\n",
       "      <td>332</td>\n",
       "      <td>0.674092</td>\n",
       "      <td>[0.6037740918402317, 0.6740923843121237]</td>\n",
       "      <td>2</td>\n",
       "      <td>34</td>\n",
       "      <td>{'p99': 74, 'min': 1, 'max': 74, 'mean': 9.764...</td>\n",
       "      <td>116</td>\n",
       "      <td>0</td>\n",
       "      <td>4055</td>\n",
       "      <td>{'maxIterations': 10, 'writeConcurrency': 4, '...</td>\n",
       "    </tr>\n",
       "  </tbody>\n",
       "</table>\n",
       "</div>"
      ],
      "text/plain": [
       "   writeMillis  nodePropertiesWritten  modularity  \\\n",
       "0          288                    332    0.674092   \n",
       "\n",
       "                               modularities  ranLevels  communityCount  \\\n",
       "0  [0.6037740918402317, 0.6740923843121237]          2              34   \n",
       "\n",
       "                               communityDistribution  postProcessingMillis  \\\n",
       "0  {'p99': 74, 'min': 1, 'max': 74, 'mean': 9.764...                   116   \n",
       "\n",
       "   preProcessingMillis  computeMillis  \\\n",
       "0                    0           4055   \n",
       "\n",
       "                                       configuration  \n",
       "0  {'maxIterations': 10, 'writeConcurrency': 4, '...  "
      ]
     },
     "execution_count": 17,
     "metadata": {},
     "output_type": "execute_result"
    }
   ],
   "source": [
    "# Add louvain modularity as property\n",
    "query = '''\n",
    "CALL gds.louvain.write('nomad', {relationshipWeightProperty:'weight', writeProperty:'louvain'});\n",
    "'''\n",
    "lm = run_query(query)\n",
    "lm"
   ]
  },
  {
   "cell_type": "markdown",
   "id": "819f38df",
   "metadata": {},
   "source": [
    "#### Louvain and PageRank\n",
    "![](Louvain_pagerank.png)"
   ]
  },
  {
   "cell_type": "code",
   "execution_count": 20,
   "id": "ad4bc0f6",
   "metadata": {},
   "outputs": [
    {
     "data": {
      "text/html": [
       "<div>\n",
       "<style scoped>\n",
       "    .dataframe tbody tr th:only-of-type {\n",
       "        vertical-align: middle;\n",
       "    }\n",
       "\n",
       "    .dataframe tbody tr th {\n",
       "        vertical-align: top;\n",
       "    }\n",
       "\n",
       "    .dataframe thead th {\n",
       "        text-align: right;\n",
       "    }\n",
       "</style>\n",
       "<table border=\"1\" class=\"dataframe\">\n",
       "  <thead>\n",
       "    <tr style=\"text-align: right;\">\n",
       "      <th></th>\n",
       "      <th>nodePropertiesWritten</th>\n",
       "      <th>writeMillis</th>\n",
       "      <th>centralityDistribution</th>\n",
       "      <th>postProcessingMillis</th>\n",
       "      <th>preProcessingMillis</th>\n",
       "      <th>computeMillis</th>\n",
       "      <th>configuration</th>\n",
       "    </tr>\n",
       "  </thead>\n",
       "  <tbody>\n",
       "    <tr>\n",
       "      <th>0</th>\n",
       "      <td>332</td>\n",
       "      <td>83</td>\n",
       "      <td>{'p99': 5824.593734741211, 'min': 0.0, 'max': ...</td>\n",
       "      <td>448</td>\n",
       "      <td>0</td>\n",
       "      <td>141</td>\n",
       "      <td>{'writeConcurrency': 4, 'writeProperty': 'betw...</td>\n",
       "    </tr>\n",
       "  </tbody>\n",
       "</table>\n",
       "</div>"
      ],
      "text/plain": [
       "   nodePropertiesWritten  writeMillis  \\\n",
       "0                    332           83   \n",
       "\n",
       "                              centralityDistribution  postProcessingMillis  \\\n",
       "0  {'p99': 5824.593734741211, 'min': 0.0, 'max': ...                   448   \n",
       "\n",
       "   preProcessingMillis  computeMillis  \\\n",
       "0                    0            141   \n",
       "\n",
       "                                       configuration  \n",
       "0  {'writeConcurrency': 4, 'writeProperty': 'betw...  "
      ]
     },
     "execution_count": 20,
     "metadata": {},
     "output_type": "execute_result"
    }
   ],
   "source": [
    "# Trying to write betweeness centrality as property\n",
    "query = '''\n",
    "CALL gds.betweenness.write('nomad',{writeProperty:'betweness'});\n",
    "'''\n",
    "run_query(query)"
   ]
  },
  {
   "cell_type": "markdown",
   "id": "6c0facc6",
   "metadata": {},
   "source": [
    "### Bloom visualization based on Louvain and Pagerank\n",
    "1. Minimum size 1x\n",
    "![](./bloom-visualisation-louvain.png)\n",
    "\n",
    "2. Minimum size 0.5x\n",
    "![](./bloom-visualisation.png) "
   ]
  },
  {
   "cell_type": "code",
   "execution_count": 22,
   "id": "e3ffae13",
   "metadata": {},
   "outputs": [],
   "source": [
    "# <> means not equal in cypher"
   ]
  },
  {
   "cell_type": "code",
   "execution_count": 20,
   "id": "77766a0c",
   "metadata": {},
   "outputs": [
    {
     "data": {
      "text/html": [
       "<div>\n",
       "<style scoped>\n",
       "    .dataframe tbody tr th:only-of-type {\n",
       "        vertical-align: middle;\n",
       "    }\n",
       "\n",
       "    .dataframe tbody tr th {\n",
       "        vertical-align: top;\n",
       "    }\n",
       "\n",
       "    .dataframe thead th {\n",
       "        text-align: right;\n",
       "    }\n",
       "</style>\n",
       "<table border=\"1\" class=\"dataframe\">\n",
       "  <thead>\n",
       "    <tr style=\"text-align: right;\">\n",
       "      <th></th>\n",
       "      <th>name</th>\n",
       "      <th>nodePropertySteps</th>\n",
       "      <th>featureSteps</th>\n",
       "      <th>splitConfig</th>\n",
       "      <th>parameterSpace</th>\n",
       "    </tr>\n",
       "  </thead>\n",
       "  <tbody>\n",
       "    <tr>\n",
       "      <th>0</th>\n",
       "      <td>lp-pipeline</td>\n",
       "      <td>[]</td>\n",
       "      <td>[]</td>\n",
       "      <td>{'negativeSamplingRatio': 1.0, 'testFraction':...</td>\n",
       "      <td>{'RandomForest': [], 'LogisticRegression': []}</td>\n",
       "    </tr>\n",
       "  </tbody>\n",
       "</table>\n",
       "</div>"
      ],
      "text/plain": [
       "          name nodePropertySteps featureSteps  \\\n",
       "0  lp-pipeline                []           []   \n",
       "\n",
       "                                         splitConfig  \\\n",
       "0  {'negativeSamplingRatio': 1.0, 'testFraction':...   \n",
       "\n",
       "                                   parameterSpace  \n",
       "0  {'RandomForest': [], 'LogisticRegression': []}  "
      ]
     },
     "execution_count": 20,
     "metadata": {},
     "output_type": "execute_result"
    }
   ],
   "source": [
    "# Define a pipeline\n",
    "run_query(\"\"\"\n",
    "CALL gds.beta.pipeline.linkPrediction.create('lp-pipeline');\n",
    "\"\"\")"
   ]
  },
  {
   "cell_type": "code",
   "execution_count": 22,
   "id": "a813a021",
   "metadata": {
    "scrolled": false
   },
   "outputs": [
    {
     "data": {
      "text/html": [
       "<div>\n",
       "<style scoped>\n",
       "    .dataframe tbody tr th:only-of-type {\n",
       "        vertical-align: middle;\n",
       "    }\n",
       "\n",
       "    .dataframe tbody tr th {\n",
       "        vertical-align: top;\n",
       "    }\n",
       "\n",
       "    .dataframe thead th {\n",
       "        text-align: right;\n",
       "    }\n",
       "</style>\n",
       "<table border=\"1\" class=\"dataframe\">\n",
       "  <thead>\n",
       "    <tr style=\"text-align: right;\">\n",
       "      <th></th>\n",
       "      <th>name</th>\n",
       "      <th>nodePropertySteps</th>\n",
       "      <th>featureSteps</th>\n",
       "      <th>splitConfig</th>\n",
       "      <th>parameterSpace</th>\n",
       "    </tr>\n",
       "  </thead>\n",
       "  <tbody>\n",
       "    <tr>\n",
       "      <th>0</th>\n",
       "      <td>lp-pipeline</td>\n",
       "      <td>[{'name': 'gds.fastRP.mutate', 'config': {'ran...</td>\n",
       "      <td>[]</td>\n",
       "      <td>{'negativeSamplingRatio': 1.0, 'testFraction':...</td>\n",
       "      <td>{'RandomForest': [], 'LogisticRegression': []}</td>\n",
       "    </tr>\n",
       "  </tbody>\n",
       "</table>\n",
       "</div>"
      ],
      "text/plain": [
       "          name                                  nodePropertySteps  \\\n",
       "0  lp-pipeline  [{'name': 'gds.fastRP.mutate', 'config': {'ran...   \n",
       "\n",
       "  featureSteps                                        splitConfig  \\\n",
       "0           []  {'negativeSamplingRatio': 1.0, 'testFraction':...   \n",
       "\n",
       "                                   parameterSpace  \n",
       "0  {'RandomForest': [], 'LogisticRegression': []}  "
      ]
     },
     "execution_count": 22,
     "metadata": {},
     "output_type": "execute_result"
    }
   ],
   "source": [
    "# FastRP embedding\n",
    "query = '''\n",
    "CALL gds.beta.pipeline.linkPrediction.addNodeProperty(\n",
    "  'lp-pipeline', \n",
    "  'fastRP', {\n",
    "    mutateProperty: 'embedding',\n",
    "    featureProperties:['pagerank'],\n",
    "    embeddingDimension: 128,\n",
    "    randomSeed: 42\n",
    "});\n",
    "'''\n",
    "frp = run_query(query)\n",
    "frp"
   ]
  },
  {
   "cell_type": "code",
   "execution_count": 23,
   "id": "f6a42ef0",
   "metadata": {
    "scrolled": true
   },
   "outputs": [
    {
     "data": {
      "text/html": [
       "<div>\n",
       "<style scoped>\n",
       "    .dataframe tbody tr th:only-of-type {\n",
       "        vertical-align: middle;\n",
       "    }\n",
       "\n",
       "    .dataframe tbody tr th {\n",
       "        vertical-align: top;\n",
       "    }\n",
       "\n",
       "    .dataframe thead th {\n",
       "        text-align: right;\n",
       "    }\n",
       "</style>\n",
       "<table border=\"1\" class=\"dataframe\">\n",
       "  <thead>\n",
       "    <tr style=\"text-align: right;\">\n",
       "      <th></th>\n",
       "      <th>featureSteps</th>\n",
       "    </tr>\n",
       "  </thead>\n",
       "  <tbody>\n",
       "    <tr>\n",
       "      <th>0</th>\n",
       "      <td>[{'name': 'COSINE', 'config': {'nodeProperties...</td>\n",
       "    </tr>\n",
       "  </tbody>\n",
       "</table>\n",
       "</div>"
      ],
      "text/plain": [
       "                                        featureSteps\n",
       "0  [{'name': 'COSINE', 'config': {'nodeProperties..."
      ]
     },
     "execution_count": 23,
     "metadata": {},
     "output_type": "execute_result"
    }
   ],
   "source": [
    "run_query(\"\"\"\n",
    "CALL gds.beta.pipeline.linkPrediction.addFeature('lp-pipeline', 'cosine', {\n",
    "  nodeProperties: ['embedding']\n",
    "}) YIELD featureSteps;\n",
    "\"\"\")"
   ]
  },
  {
   "cell_type": "code",
   "execution_count": 24,
   "id": "36dc7751",
   "metadata": {},
   "outputs": [
    {
     "data": {
      "text/html": [
       "<div>\n",
       "<style scoped>\n",
       "    .dataframe tbody tr th:only-of-type {\n",
       "        vertical-align: middle;\n",
       "    }\n",
       "\n",
       "    .dataframe tbody tr th {\n",
       "        vertical-align: top;\n",
       "    }\n",
       "\n",
       "    .dataframe thead th {\n",
       "        text-align: right;\n",
       "    }\n",
       "</style>\n",
       "<table border=\"1\" class=\"dataframe\">\n",
       "  <thead>\n",
       "    <tr style=\"text-align: right;\">\n",
       "      <th></th>\n",
       "      <th>splitConfig</th>\n",
       "    </tr>\n",
       "  </thead>\n",
       "  <tbody>\n",
       "    <tr>\n",
       "      <th>0</th>\n",
       "      <td>{'negativeSamplingRatio': 1.0, 'testFraction':...</td>\n",
       "    </tr>\n",
       "  </tbody>\n",
       "</table>\n",
       "</div>"
      ],
      "text/plain": [
       "                                         splitConfig\n",
       "0  {'negativeSamplingRatio': 1.0, 'testFraction':..."
      ]
     },
     "execution_count": 24,
     "metadata": {},
     "output_type": "execute_result"
    }
   ],
   "source": [
    "run_query(\"\"\"\n",
    "CALL gds.beta.pipeline.linkPrediction.configureSplit(\n",
    " 'lp-pipeline', {  \n",
    "   testFraction: 0.3,\n",
    "   trainFraction: 0.6,\n",
    "   validationFolds: 7})\n",
    "YIELD splitConfig;\n",
    "\"\"\")"
   ]
  },
  {
   "cell_type": "code",
   "execution_count": 25,
   "id": "1c39302c",
   "metadata": {},
   "outputs": [
    {
     "data": {
      "text/html": [
       "<div>\n",
       "<style scoped>\n",
       "    .dataframe tbody tr th:only-of-type {\n",
       "        vertical-align: middle;\n",
       "    }\n",
       "\n",
       "    .dataframe tbody tr th {\n",
       "        vertical-align: top;\n",
       "    }\n",
       "\n",
       "    .dataframe thead th {\n",
       "        text-align: right;\n",
       "    }\n",
       "</style>\n",
       "<table border=\"1\" class=\"dataframe\">\n",
       "  <thead>\n",
       "    <tr style=\"text-align: right;\">\n",
       "      <th></th>\n",
       "      <th>parameterSpace</th>\n",
       "    </tr>\n",
       "  </thead>\n",
       "  <tbody>\n",
       "    <tr>\n",
       "      <th>0</th>\n",
       "      <td>{'RandomForest': [], 'LogisticRegression': [{'...</td>\n",
       "    </tr>\n",
       "  </tbody>\n",
       "</table>\n",
       "</div>"
      ],
      "text/plain": [
       "                                      parameterSpace\n",
       "0  {'RandomForest': [], 'LogisticRegression': [{'..."
      ]
     },
     "execution_count": 25,
     "metadata": {},
     "output_type": "execute_result"
    }
   ],
   "source": [
    "run_query(\"\"\"\n",
    "CALL gds.beta.pipeline.linkPrediction.addLogisticRegression(\n",
    "  'lp-pipeline',  \n",
    "    {tolerance: 0.001, maxEpochs: 500})\n",
    "YIELD parameterSpace;\n",
    "\"\"\")"
   ]
  },
  {
   "cell_type": "code",
   "execution_count": 26,
   "id": "9f8f216c",
   "metadata": {},
   "outputs": [
    {
     "data": {
      "text/html": [
       "<div>\n",
       "<style scoped>\n",
       "    .dataframe tbody tr th:only-of-type {\n",
       "        vertical-align: middle;\n",
       "    }\n",
       "\n",
       "    .dataframe tbody tr th {\n",
       "        vertical-align: top;\n",
       "    }\n",
       "\n",
       "    .dataframe thead th {\n",
       "        text-align: right;\n",
       "    }\n",
       "</style>\n",
       "<table border=\"1\" class=\"dataframe\">\n",
       "  <thead>\n",
       "    <tr style=\"text-align: right;\">\n",
       "      <th></th>\n",
       "      <th>nodeProjection</th>\n",
       "      <th>relationshipProjection</th>\n",
       "      <th>graphName</th>\n",
       "      <th>nodeCount</th>\n",
       "      <th>relationshipCount</th>\n",
       "      <th>projectMillis</th>\n",
       "    </tr>\n",
       "  </thead>\n",
       "  <tbody>\n",
       "    <tr>\n",
       "      <th>0</th>\n",
       "      <td>{'City': {'label': 'City', 'properties': {'pag...</td>\n",
       "      <td>{'TRAVEL_TO': {'orientation': 'UNDIRECTED', 'a...</td>\n",
       "      <td>lp-graph</td>\n",
       "      <td>332</td>\n",
       "      <td>5108</td>\n",
       "      <td>193</td>\n",
       "    </tr>\n",
       "  </tbody>\n",
       "</table>\n",
       "</div>"
      ],
      "text/plain": [
       "                                      nodeProjection  \\\n",
       "0  {'City': {'label': 'City', 'properties': {'pag...   \n",
       "\n",
       "                              relationshipProjection graphName  nodeCount  \\\n",
       "0  {'TRAVEL_TO': {'orientation': 'UNDIRECTED', 'a...  lp-graph        332   \n",
       "\n",
       "   relationshipCount  projectMillis  \n",
       "0               5108            193  "
      ]
     },
     "execution_count": 26,
     "metadata": {},
     "output_type": "execute_result"
    }
   ],
   "source": [
    "# Projecting relationships as undirected\n",
    "run_query(\"\"\"\n",
    "CALL gds.graph.project('lp-graph', \n",
    "  'City', \n",
    "  {TRAVEL_TO:{orientation:'UNDIRECTED'}}, \n",
    "  {nodeProperties:['pagerank']});\n",
    "\"\"\")"
   ]
  },
  {
   "cell_type": "code",
   "execution_count": 27,
   "id": "664e6991",
   "metadata": {},
   "outputs": [
    {
     "data": {
      "text/html": [
       "<div>\n",
       "<style scoped>\n",
       "    .dataframe tbody tr th:only-of-type {\n",
       "        vertical-align: middle;\n",
       "    }\n",
       "\n",
       "    .dataframe tbody tr th {\n",
       "        vertical-align: top;\n",
       "    }\n",
       "\n",
       "    .dataframe thead th {\n",
       "        text-align: right;\n",
       "    }\n",
       "</style>\n",
       "<table border=\"1\" class=\"dataframe\">\n",
       "  <thead>\n",
       "    <tr style=\"text-align: right;\">\n",
       "      <th></th>\n",
       "      <th>winningModel</th>\n",
       "      <th>trainGraphScore</th>\n",
       "      <th>testGraphScore</th>\n",
       "    </tr>\n",
       "  </thead>\n",
       "  <tbody>\n",
       "    <tr>\n",
       "      <th>0</th>\n",
       "      <td>{'maxEpochs': 500, 'minEpochs': 1, 'penalty': ...</td>\n",
       "      <td>0.786953</td>\n",
       "      <td>0.83135</td>\n",
       "    </tr>\n",
       "  </tbody>\n",
       "</table>\n",
       "</div>"
      ],
      "text/plain": [
       "                                        winningModel  trainGraphScore  \\\n",
       "0  {'maxEpochs': 500, 'minEpochs': 1, 'penalty': ...         0.786953   \n",
       "\n",
       "   testGraphScore  \n",
       "0         0.83135  "
      ]
     },
     "execution_count": 27,
     "metadata": {},
     "output_type": "execute_result"
    }
   ],
   "source": [
    "run_query(\"\"\"\n",
    "CALL gds.beta.pipeline.linkPrediction.train('lp-graph', \n",
    "  {pipeline: 'lp-pipeline',\n",
    "   modelName: 'lp-model',\n",
    "   randomSeed: 42})\n",
    "YIELD modelInfo\n",
    "RETURN  modelInfo.bestParameters AS winningModel,  modelInfo.metrics.AUCPR.outerTrain AS trainGraphScore,  modelInfo.metrics.AUCPR.test AS testGraphScore;\n",
    "\"\"\")"
   ]
  },
  {
   "cell_type": "code",
   "execution_count": 28,
   "id": "4513d960",
   "metadata": {},
   "outputs": [
    {
     "data": {
      "text/html": [
       "<div>\n",
       "<style scoped>\n",
       "    .dataframe tbody tr th:only-of-type {\n",
       "        vertical-align: middle;\n",
       "    }\n",
       "\n",
       "    .dataframe tbody tr th {\n",
       "        vertical-align: top;\n",
       "    }\n",
       "\n",
       "    .dataframe thead th {\n",
       "        text-align: right;\n",
       "    }\n",
       "</style>\n",
       "<table border=\"1\" class=\"dataframe\">\n",
       "  <thead>\n",
       "    <tr style=\"text-align: right;\">\n",
       "      <th></th>\n",
       "      <th>relationshipsWritten</th>\n",
       "    </tr>\n",
       "  </thead>\n",
       "  <tbody>\n",
       "    <tr>\n",
       "      <th>0</th>\n",
       "      <td>40</td>\n",
       "    </tr>\n",
       "  </tbody>\n",
       "</table>\n",
       "</div>"
      ],
      "text/plain": [
       "   relationshipsWritten\n",
       "0                    40"
      ]
     },
     "execution_count": 28,
     "metadata": {},
     "output_type": "execute_result"
    }
   ],
   "source": [
    "run_query(\"\"\"\n",
    "CALL gds.beta.pipeline.linkPrediction.predict.mutate('lp-graph', \n",
    "  {modelName: 'lp-model',  \n",
    "   mutateRelationshipType: 'TRAVEL_PREDICTED',\n",
    "   topN: 20,\n",
    "   threshold: 0.45})\n",
    "YIELD relationshipsWritten;\n",
    "\"\"\")"
   ]
  },
  {
   "cell_type": "code",
   "execution_count": 32,
   "id": "732e508f",
   "metadata": {
    "scrolled": true
   },
   "outputs": [
    {
     "data": {
      "text/html": [
       "<div>\n",
       "<style scoped>\n",
       "    .dataframe tbody tr th:only-of-type {\n",
       "        vertical-align: middle;\n",
       "    }\n",
       "\n",
       "    .dataframe tbody tr th {\n",
       "        vertical-align: top;\n",
       "    }\n",
       "\n",
       "    .dataframe thead th {\n",
       "        text-align: right;\n",
       "    }\n",
       "</style>\n",
       "<table border=\"1\" class=\"dataframe\">\n",
       "  <thead>\n",
       "    <tr style=\"text-align: right;\">\n",
       "      <th></th>\n",
       "      <th>city1</th>\n",
       "      <th>city2</th>\n",
       "      <th>probability</th>\n",
       "    </tr>\n",
       "  </thead>\n",
       "  <tbody>\n",
       "    <tr>\n",
       "      <th>0</th>\n",
       "      <td>krabi-thailand</td>\n",
       "      <td>luang-prabang-laos</td>\n",
       "      <td>0.500981</td>\n",
       "    </tr>\n",
       "    <tr>\n",
       "      <th>1</th>\n",
       "      <td>ko-pha-ngan-thailand</td>\n",
       "      <td>luang-prabang-laos</td>\n",
       "      <td>0.500980</td>\n",
       "    </tr>\n",
       "    <tr>\n",
       "      <th>2</th>\n",
       "      <td>siem-reap-cambodia</td>\n",
       "      <td>yangon-myanmar</td>\n",
       "      <td>0.500980</td>\n",
       "    </tr>\n",
       "    <tr>\n",
       "      <th>3</th>\n",
       "      <td>ho-chi-minh-city-vietnam</td>\n",
       "      <td>yangon-myanmar</td>\n",
       "      <td>0.500978</td>\n",
       "    </tr>\n",
       "    <tr>\n",
       "      <th>4</th>\n",
       "      <td>luang-prabang-laos</td>\n",
       "      <td>yangon-myanmar</td>\n",
       "      <td>0.500978</td>\n",
       "    </tr>\n",
       "    <tr>\n",
       "      <th>5</th>\n",
       "      <td>krabi-thailand</td>\n",
       "      <td>penang-malaysia</td>\n",
       "      <td>0.500978</td>\n",
       "    </tr>\n",
       "    <tr>\n",
       "      <th>6</th>\n",
       "      <td>yangon-myanmar</td>\n",
       "      <td>hoi-an-vietnam</td>\n",
       "      <td>0.500977</td>\n",
       "    </tr>\n",
       "    <tr>\n",
       "      <th>7</th>\n",
       "      <td>luang-prabang-laos</td>\n",
       "      <td>hoi-an-vietnam</td>\n",
       "      <td>0.500977</td>\n",
       "    </tr>\n",
       "    <tr>\n",
       "      <th>8</th>\n",
       "      <td>adelaide-australia</td>\n",
       "      <td>byron-bay-australia</td>\n",
       "      <td>0.500977</td>\n",
       "    </tr>\n",
       "    <tr>\n",
       "      <th>9</th>\n",
       "      <td>krabi-thailand</td>\n",
       "      <td>yangon-myanmar</td>\n",
       "      <td>0.500977</td>\n",
       "    </tr>\n",
       "  </tbody>\n",
       "</table>\n",
       "</div>"
      ],
      "text/plain": [
       "                      city1                city2  probability\n",
       "0            krabi-thailand   luang-prabang-laos     0.500981\n",
       "1      ko-pha-ngan-thailand   luang-prabang-laos     0.500980\n",
       "2        siem-reap-cambodia       yangon-myanmar     0.500980\n",
       "3  ho-chi-minh-city-vietnam       yangon-myanmar     0.500978\n",
       "4        luang-prabang-laos       yangon-myanmar     0.500978\n",
       "5            krabi-thailand      penang-malaysia     0.500978\n",
       "6            yangon-myanmar       hoi-an-vietnam     0.500977\n",
       "7        luang-prabang-laos       hoi-an-vietnam     0.500977\n",
       "8        adelaide-australia  byron-bay-australia     0.500977\n",
       "9            krabi-thailand       yangon-myanmar     0.500977"
      ]
     },
     "execution_count": 32,
     "metadata": {},
     "output_type": "execute_result"
    }
   ],
   "source": [
    "probable = run_query(\"\"\"\n",
    "CALL gds.graph.streamRelationshipProperty('lp-graph', \n",
    "  'probability', \n",
    "  ['TRAVEL_PREDICTED'])\n",
    "YIELD  sourceNodeId, targetNodeId, propertyValue\n",
    "WHERE sourceNodeId < targetNodeId\n",
    "WITH  gds.util.asNode(sourceNodeId).name as city1, gds.util.asNode(targetNodeId).name as city2, propertyValue as probability\n",
    "ORDER BY probability DESC\n",
    "RETURN city1, city2, probability\n",
    "LIMIT 10;\n",
    "\"\"\")\n",
    "probable"
   ]
  },
  {
   "cell_type": "code",
   "execution_count": 33,
   "id": "33ec69b8",
   "metadata": {},
   "outputs": [
    {
     "data": {
      "text/plain": [
       "10"
      ]
     },
     "execution_count": 33,
     "metadata": {},
     "output_type": "execute_result"
    }
   ],
   "source": [
    "len(probable)"
   ]
  },
  {
   "cell_type": "code",
   "execution_count": null,
   "id": "15592311",
   "metadata": {},
   "outputs": [],
   "source": [
    "# Now we will create the TRAVEL_PREDICTED edges between the predicted cities with probability as property of the relationship"
   ]
  },
  {
   "cell_type": "code",
   "execution_count": 39,
   "id": "011c21ae",
   "metadata": {
    "scrolled": true
   },
   "outputs": [
    {
     "name": "stdout",
     "output_type": "stream",
     "text": [
      "city1              krabi-thailand\n",
      "city2          luang-prabang-laos\n",
      "probability              0.500981\n",
      "Name: 0, dtype: object\n",
      "city1          ko-pha-ngan-thailand\n",
      "city2            luang-prabang-laos\n",
      "probability                 0.50098\n",
      "Name: 1, dtype: object\n",
      "city1          siem-reap-cambodia\n",
      "city2              yangon-myanmar\n",
      "probability               0.50098\n",
      "Name: 2, dtype: object\n",
      "city1          ho-chi-minh-city-vietnam\n",
      "city2                    yangon-myanmar\n",
      "probability                    0.500978\n",
      "Name: 3, dtype: object\n",
      "city1          luang-prabang-laos\n",
      "city2              yangon-myanmar\n",
      "probability              0.500978\n",
      "Name: 4, dtype: object\n",
      "city1           krabi-thailand\n",
      "city2          penang-malaysia\n",
      "probability           0.500978\n",
      "Name: 5, dtype: object\n",
      "city1          yangon-myanmar\n",
      "city2          hoi-an-vietnam\n",
      "probability          0.500977\n",
      "Name: 6, dtype: object\n",
      "city1          luang-prabang-laos\n",
      "city2              hoi-an-vietnam\n",
      "probability              0.500977\n",
      "Name: 7, dtype: object\n",
      "city1           adelaide-australia\n",
      "city2          byron-bay-australia\n",
      "probability               0.500977\n",
      "Name: 8, dtype: object\n",
      "city1          krabi-thailand\n",
      "city2          yangon-myanmar\n",
      "probability          0.500977\n",
      "Name: 9, dtype: object\n"
     ]
    }
   ],
   "source": [
    "for i,rec in probable.iterrows():\n",
    "    print(rec)\n",
    "    city1 = rec['city1']\n",
    "    city2 = rec['city2']\n",
    "    prob = rec['probability']\n",
    "    qu = '''\n",
    "    MERGE (c1:City {name:'%s'})\n",
    "    MERGE (c2:City {name:'%s'})\n",
    "    MERGE (c1)-[r:TRAVEL_PREDICTED {probability:'%s'}]->(c2)\n",
    "    '''\n",
    "    args = (city1,city2,prob)\n",
    "    run_query(qu % args)"
   ]
  },
  {
   "cell_type": "markdown",
   "id": "17b7260a",
   "metadata": {},
   "source": [
    "#### Predicted travel edges\n",
    "![](./predicted-travel.svg)"
   ]
  },
  {
   "cell_type": "markdown",
   "id": "e5ce7da4",
   "metadata": {},
   "source": [
    "#### To check procedures available, run or use the cells below"
   ]
  },
  {
   "cell_type": "code",
   "execution_count": 8,
   "id": "e692bdf5",
   "metadata": {},
   "outputs": [],
   "source": [
    "procedures = run_query(\"CALL gds.list();\")"
   ]
  },
  {
   "cell_type": "code",
   "execution_count": 10,
   "id": "99f35309",
   "metadata": {},
   "outputs": [
    {
     "data": {
      "text/html": [
       "<div>\n",
       "<style scoped>\n",
       "    .dataframe tbody tr th:only-of-type {\n",
       "        vertical-align: middle;\n",
       "    }\n",
       "\n",
       "    .dataframe tbody tr th {\n",
       "        vertical-align: top;\n",
       "    }\n",
       "\n",
       "    .dataframe thead th {\n",
       "        text-align: right;\n",
       "    }\n",
       "</style>\n",
       "<table border=\"1\" class=\"dataframe\">\n",
       "  <thead>\n",
       "    <tr style=\"text-align: right;\">\n",
       "      <th></th>\n",
       "      <th>name</th>\n",
       "      <th>description</th>\n",
       "      <th>signature</th>\n",
       "      <th>type</th>\n",
       "    </tr>\n",
       "  </thead>\n",
       "  <tbody>\n",
       "    <tr>\n",
       "      <th>0</th>\n",
       "      <td>gds.allShortestPaths.delta.mutate</td>\n",
       "      <td>The Delta Stepping shortest path algorithm com...</td>\n",
       "      <td>gds.allShortestPaths.delta.mutate(graphName ::...</td>\n",
       "      <td>procedure</td>\n",
       "    </tr>\n",
       "    <tr>\n",
       "      <th>1</th>\n",
       "      <td>gds.allShortestPaths.delta.mutate.estimate</td>\n",
       "      <td>Returns an estimation of the memory consumptio...</td>\n",
       "      <td>gds.allShortestPaths.delta.mutate.estimate(gra...</td>\n",
       "      <td>procedure</td>\n",
       "    </tr>\n",
       "    <tr>\n",
       "      <th>2</th>\n",
       "      <td>gds.allShortestPaths.delta.stream</td>\n",
       "      <td>The Delta Stepping shortest path algorithm com...</td>\n",
       "      <td>gds.allShortestPaths.delta.stream(graphName ::...</td>\n",
       "      <td>procedure</td>\n",
       "    </tr>\n",
       "    <tr>\n",
       "      <th>3</th>\n",
       "      <td>gds.allShortestPaths.delta.stream.estimate</td>\n",
       "      <td>Returns an estimation of the memory consumptio...</td>\n",
       "      <td>gds.allShortestPaths.delta.stream.estimate(gra...</td>\n",
       "      <td>procedure</td>\n",
       "    </tr>\n",
       "    <tr>\n",
       "      <th>4</th>\n",
       "      <td>gds.allShortestPaths.delta.write</td>\n",
       "      <td>The Delta Stepping shortest path algorithm com...</td>\n",
       "      <td>gds.allShortestPaths.delta.write(graphName :: ...</td>\n",
       "      <td>procedure</td>\n",
       "    </tr>\n",
       "    <tr>\n",
       "      <th>...</th>\n",
       "      <td>...</td>\n",
       "      <td>...</td>\n",
       "      <td>...</td>\n",
       "      <td>...</td>\n",
       "    </tr>\n",
       "    <tr>\n",
       "      <th>295</th>\n",
       "      <td>gds.util.infinity</td>\n",
       "      <td>RETURN gds.util.infinity() - Return infinity a...</td>\n",
       "      <td>gds.util.infinity() :: (FLOAT?)</td>\n",
       "      <td>function</td>\n",
       "    </tr>\n",
       "    <tr>\n",
       "      <th>296</th>\n",
       "      <td>gds.util.isFinite</td>\n",
       "      <td>RETURN gds.util.isFinite(value) - Return true ...</td>\n",
       "      <td>gds.util.isFinite(value :: NUMBER?) :: (BOOLEAN?)</td>\n",
       "      <td>function</td>\n",
       "    </tr>\n",
       "    <tr>\n",
       "      <th>297</th>\n",
       "      <td>gds.util.isInfinite</td>\n",
       "      <td>RETURN gds.util.isInfinite(value) - Return tru...</td>\n",
       "      <td>gds.util.isInfinite(value :: NUMBER?) :: (BOOL...</td>\n",
       "      <td>function</td>\n",
       "    </tr>\n",
       "    <tr>\n",
       "      <th>298</th>\n",
       "      <td>gds.util.nodeProperty</td>\n",
       "      <td>Returns a node property value from a named in-...</td>\n",
       "      <td>gds.util.nodeProperty(graphName :: STRING?, no...</td>\n",
       "      <td>function</td>\n",
       "    </tr>\n",
       "    <tr>\n",
       "      <th>299</th>\n",
       "      <td>gds.version</td>\n",
       "      <td>RETURN gds.version() | Return the installed gr...</td>\n",
       "      <td>gds.version() :: (STRING?)</td>\n",
       "      <td>function</td>\n",
       "    </tr>\n",
       "  </tbody>\n",
       "</table>\n",
       "<p>300 rows × 4 columns</p>\n",
       "</div>"
      ],
      "text/plain": [
       "                                           name  \\\n",
       "0             gds.allShortestPaths.delta.mutate   \n",
       "1    gds.allShortestPaths.delta.mutate.estimate   \n",
       "2             gds.allShortestPaths.delta.stream   \n",
       "3    gds.allShortestPaths.delta.stream.estimate   \n",
       "4              gds.allShortestPaths.delta.write   \n",
       "..                                          ...   \n",
       "295                           gds.util.infinity   \n",
       "296                           gds.util.isFinite   \n",
       "297                         gds.util.isInfinite   \n",
       "298                       gds.util.nodeProperty   \n",
       "299                                 gds.version   \n",
       "\n",
       "                                           description  \\\n",
       "0    The Delta Stepping shortest path algorithm com...   \n",
       "1    Returns an estimation of the memory consumptio...   \n",
       "2    The Delta Stepping shortest path algorithm com...   \n",
       "3    Returns an estimation of the memory consumptio...   \n",
       "4    The Delta Stepping shortest path algorithm com...   \n",
       "..                                                 ...   \n",
       "295  RETURN gds.util.infinity() - Return infinity a...   \n",
       "296  RETURN gds.util.isFinite(value) - Return true ...   \n",
       "297  RETURN gds.util.isInfinite(value) - Return tru...   \n",
       "298  Returns a node property value from a named in-...   \n",
       "299  RETURN gds.version() | Return the installed gr...   \n",
       "\n",
       "                                             signature       type  \n",
       "0    gds.allShortestPaths.delta.mutate(graphName ::...  procedure  \n",
       "1    gds.allShortestPaths.delta.mutate.estimate(gra...  procedure  \n",
       "2    gds.allShortestPaths.delta.stream(graphName ::...  procedure  \n",
       "3    gds.allShortestPaths.delta.stream.estimate(gra...  procedure  \n",
       "4    gds.allShortestPaths.delta.write(graphName :: ...  procedure  \n",
       "..                                                 ...        ...  \n",
       "295                    gds.util.infinity() :: (FLOAT?)   function  \n",
       "296  gds.util.isFinite(value :: NUMBER?) :: (BOOLEAN?)   function  \n",
       "297  gds.util.isInfinite(value :: NUMBER?) :: (BOOL...   function  \n",
       "298  gds.util.nodeProperty(graphName :: STRING?, no...   function  \n",
       "299                         gds.version() :: (STRING?)   function  \n",
       "\n",
       "[300 rows x 4 columns]"
      ]
     },
     "execution_count": 10,
     "metadata": {},
     "output_type": "execute_result"
    }
   ],
   "source": [
    "procedures"
   ]
  },
  {
   "cell_type": "code",
   "execution_count": 18,
   "id": "365704b3",
   "metadata": {},
   "outputs": [
    {
     "name": "stdout",
     "output_type": "stream",
     "text": [
      "gds.beta.pipeline.drop\n",
      "gds.beta.pipeline.exists\n",
      "gds.beta.pipeline.linkPrediction.addFeature\n",
      "gds.beta.pipeline.linkPrediction.addLogisticRegression\n",
      "gds.beta.pipeline.linkPrediction.addNodeProperty\n",
      "gds.beta.pipeline.linkPrediction.configureSplit\n",
      "gds.beta.pipeline.linkPrediction.create\n",
      "gds.beta.pipeline.linkPrediction.predict.mutate\n",
      "gds.beta.pipeline.linkPrediction.predict.mutate.estimate\n",
      "gds.beta.pipeline.linkPrediction.predict.stream\n",
      "gds.beta.pipeline.linkPrediction.predict.stream.estimate\n",
      "gds.beta.pipeline.linkPrediction.train\n",
      "gds.beta.pipeline.linkPrediction.train.estimate\n",
      "gds.beta.pipeline.list\n",
      "gds.beta.pipeline.nodeClassification.addLogisticRegression\n",
      "gds.beta.pipeline.nodeClassification.addNodeProperty\n",
      "gds.beta.pipeline.nodeClassification.configureSplit\n",
      "gds.beta.pipeline.nodeClassification.create\n",
      "gds.beta.pipeline.nodeClassification.predict.mutate\n",
      "gds.beta.pipeline.nodeClassification.predict.mutate.estimate\n",
      "gds.beta.pipeline.nodeClassification.predict.stream\n",
      "gds.beta.pipeline.nodeClassification.predict.stream.estimate\n",
      "gds.beta.pipeline.nodeClassification.predict.write\n",
      "gds.beta.pipeline.nodeClassification.predict.write.estimate\n",
      "gds.beta.pipeline.nodeClassification.selectFeatures\n",
      "gds.beta.pipeline.nodeClassification.train\n",
      "gds.beta.pipeline.nodeClassification.train.estimate\n"
     ]
    }
   ],
   "source": [
    "for i in procedures['name']:\n",
    "    if i.startswith('gds.beta.pipeline'):\n",
    "        print(i)"
   ]
  },
  {
   "cell_type": "code",
   "execution_count": null,
   "id": "576d725a",
   "metadata": {},
   "outputs": [],
   "source": []
  }
 ],
 "metadata": {
  "kernelspec": {
   "display_name": "Python 3",
   "language": "python",
   "name": "python3"
  },
  "language_info": {
   "codemirror_mode": {
    "name": "ipython",
    "version": 3
   },
   "file_extension": ".py",
   "mimetype": "text/x-python",
   "name": "python",
   "nbconvert_exporter": "python",
   "pygments_lexer": "ipython3",
   "version": "3.8.11"
  }
 },
 "nbformat": 4,
 "nbformat_minor": 5
}
