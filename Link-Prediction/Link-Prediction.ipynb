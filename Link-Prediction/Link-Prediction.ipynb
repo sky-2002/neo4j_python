{
 "cells": [
  {
   "cell_type": "markdown",
   "id": "3bdc03ab",
   "metadata": {},
   "source": [
    "Reference notebook : [Link](https://github.com/tomasonjo/blogs/blob/master/lp-combiner/Link%20prediction%20combiner.ipynb)"
   ]
  },
  {
   "cell_type": "code",
   "execution_count": 2,
   "id": "7f4363ae",
   "metadata": {},
   "outputs": [],
   "source": [
    "from neo4j import GraphDatabase\n",
    "import pandas as pd\n",
    "from dotenv import load_dotenv\n",
    "import os"
   ]
  },
  {
   "cell_type": "code",
   "execution_count": 9,
   "id": "feb531da",
   "metadata": {},
   "outputs": [
    {
     "data": {
      "text/plain": [
       "True"
      ]
     },
     "execution_count": 9,
     "metadata": {},
     "output_type": "execute_result"
    }
   ],
   "source": [
    "load_dotenv(override=True)"
   ]
  },
  {
   "cell_type": "code",
   "execution_count": 10,
   "id": "fa02ed9a",
   "metadata": {},
   "outputs": [],
   "source": [
    "uri = os.getenv('uri')\n",
    "user = os.getenv('user')\n",
    "passw = os.getenv('password')"
   ]
  },
  {
   "cell_type": "code",
   "execution_count": 5,
   "id": "f5ea976d",
   "metadata": {},
   "outputs": [],
   "source": [
    "def run_query(query, params={}):\n",
    "    with driver.session() as session:\n",
    "        result = session.run(query, params)\n",
    "        return pd.DataFrame([r.values() for r in result], columns=result.keys())"
   ]
  },
  {
   "cell_type": "code",
   "execution_count": 12,
   "id": "81bb85c8",
   "metadata": {},
   "outputs": [],
   "source": [
    "driver = GraphDatabase.driver(uri,auth=(user, passw))"
   ]
  },
  {
   "cell_type": "code",
   "execution_count": 13,
   "id": "382cce0a",
   "metadata": {},
   "outputs": [
    {
     "data": {
      "text/html": [
       "<div>\n",
       "<style scoped>\n",
       "    .dataframe tbody tr th:only-of-type {\n",
       "        vertical-align: middle;\n",
       "    }\n",
       "\n",
       "    .dataframe tbody tr th {\n",
       "        vertical-align: top;\n",
       "    }\n",
       "\n",
       "    .dataframe thead th {\n",
       "        text-align: right;\n",
       "    }\n",
       "</style>\n",
       "<table border=\"1\" class=\"dataframe\">\n",
       "  <thead>\n",
       "    <tr style=\"text-align: right;\">\n",
       "      <th></th>\n",
       "    </tr>\n",
       "  </thead>\n",
       "  <tbody>\n",
       "  </tbody>\n",
       "</table>\n",
       "</div>"
      ],
      "text/plain": [
       "Empty DataFrame\n",
       "Columns: []\n",
       "Index: []"
      ]
     },
     "execution_count": 13,
     "metadata": {},
     "output_type": "execute_result"
    }
   ],
   "source": [
    "# Import data to neo4j\n",
    "run_query(\"\"\"\n",
    "LOAD CSV WITH HEADERS FROM \"https://raw.githubusercontent.com/mathbeveridge/gameofthrones/master/data/got-s1-edges.csv\" as row\n",
    "MERGE (s:Character{name:row.Source})\n",
    "MERGE (t:Character{name:row.Target})\n",
    "MERGE (s)-[i:INTERACTS]-(t)\n",
    "SET i.weight = toInteger(row.Weight)\n",
    "\"\"\")"
   ]
  },
  {
   "cell_type": "markdown",
   "id": "b590ec74",
   "metadata": {},
   "source": [
    "Link prediction pipeline Under the hood, the link prediction model in Neo4j uses a logistic regression classifier. We are dealing with a binary classification problem, where we want to predict if a link exists between a pair of nodes or not. On a high level, the link prediction pipeline follows the following steps:\n",
    "\n",
    "1. Node Feature engineering\n",
    "2. Link Feature combiner\n",
    "3. Model training\n",
    "4. Predict new links"
   ]
  },
  {
   "cell_type": "code",
   "execution_count": 14,
   "id": "97f03c55",
   "metadata": {},
   "outputs": [
    {
     "data": {
      "text/html": [
       "<div>\n",
       "<style scoped>\n",
       "    .dataframe tbody tr th:only-of-type {\n",
       "        vertical-align: middle;\n",
       "    }\n",
       "\n",
       "    .dataframe tbody tr th {\n",
       "        vertical-align: top;\n",
       "    }\n",
       "\n",
       "    .dataframe thead th {\n",
       "        text-align: right;\n",
       "    }\n",
       "</style>\n",
       "<table border=\"1\" class=\"dataframe\">\n",
       "  <thead>\n",
       "    <tr style=\"text-align: right;\">\n",
       "      <th></th>\n",
       "      <th>nodeProjection</th>\n",
       "      <th>relationshipProjection</th>\n",
       "      <th>graphName</th>\n",
       "      <th>nodeCount</th>\n",
       "      <th>relationshipCount</th>\n",
       "      <th>projectMillis</th>\n",
       "    </tr>\n",
       "  </thead>\n",
       "  <tbody>\n",
       "    <tr>\n",
       "      <th>0</th>\n",
       "      <td>{'Character': {'label': 'Character', 'properti...</td>\n",
       "      <td>{'INTERACTS': {'orientation': 'UNDIRECTED', 'a...</td>\n",
       "      <td>gots1</td>\n",
       "      <td>126</td>\n",
       "      <td>1098</td>\n",
       "      <td>216</td>\n",
       "    </tr>\n",
       "  </tbody>\n",
       "</table>\n",
       "</div>"
      ],
      "text/plain": [
       "                                      nodeProjection  \\\n",
       "0  {'Character': {'label': 'Character', 'properti...   \n",
       "\n",
       "                              relationshipProjection graphName  nodeCount  \\\n",
       "0  {'INTERACTS': {'orientation': 'UNDIRECTED', 'a...     gots1        126   \n",
       "\n",
       "   relationshipCount  projectMillis  \n",
       "0               1098            216  "
      ]
     },
     "execution_count": 14,
     "metadata": {},
     "output_type": "execute_result"
    }
   ],
   "source": [
    "# Project the graph\n",
    "run_query(\"\"\"\n",
    "CALL gds.graph.project('gots1', 'Character', {INTERACTS:{orientation:'UNDIRECTED', properties:'weight'}})\n",
    "\"\"\")\n",
    "# INTERACTS is the relationship type, we can define its orientation and also choose the properties"
   ]
  },
  {
   "cell_type": "code",
   "execution_count": 15,
   "id": "ec99b506",
   "metadata": {},
   "outputs": [
    {
     "data": {
      "text/html": [
       "<div>\n",
       "<style scoped>\n",
       "    .dataframe tbody tr th:only-of-type {\n",
       "        vertical-align: middle;\n",
       "    }\n",
       "\n",
       "    .dataframe tbody tr th {\n",
       "        vertical-align: top;\n",
       "    }\n",
       "\n",
       "    .dataframe thead th {\n",
       "        text-align: right;\n",
       "    }\n",
       "</style>\n",
       "<table border=\"1\" class=\"dataframe\">\n",
       "  <thead>\n",
       "    <tr style=\"text-align: right;\">\n",
       "      <th></th>\n",
       "      <th>writeMillis</th>\n",
       "      <th>nodePropertiesWritten</th>\n",
       "      <th>modularity</th>\n",
       "      <th>modularities</th>\n",
       "      <th>ranLevels</th>\n",
       "      <th>communityCount</th>\n",
       "      <th>communityDistribution</th>\n",
       "      <th>postProcessingMillis</th>\n",
       "      <th>preProcessingMillis</th>\n",
       "      <th>computeMillis</th>\n",
       "      <th>configuration</th>\n",
       "    </tr>\n",
       "  </thead>\n",
       "  <tbody>\n",
       "    <tr>\n",
       "      <th>0</th>\n",
       "      <td>301</td>\n",
       "      <td>126</td>\n",
       "      <td>0.528858</td>\n",
       "      <td>[0.5016739965172651, 0.5288576612285539]</td>\n",
       "      <td>2</td>\n",
       "      <td>7</td>\n",
       "      <td>{'p99': 45, 'min': 2, 'max': 45, 'mean': 18.0,...</td>\n",
       "      <td>494</td>\n",
       "      <td>1</td>\n",
       "      <td>1794</td>\n",
       "      <td>{'maxIterations': 10, 'writeConcurrency': 4, '...</td>\n",
       "    </tr>\n",
       "  </tbody>\n",
       "</table>\n",
       "</div>"
      ],
      "text/plain": [
       "   writeMillis  nodePropertiesWritten  modularity  \\\n",
       "0          301                    126    0.528858   \n",
       "\n",
       "                               modularities  ranLevels  communityCount  \\\n",
       "0  [0.5016739965172651, 0.5288576612285539]          2               7   \n",
       "\n",
       "                               communityDistribution  postProcessingMillis  \\\n",
       "0  {'p99': 45, 'min': 2, 'max': 45, 'mean': 18.0,...                   494   \n",
       "\n",
       "   preProcessingMillis  computeMillis  \\\n",
       "0                    1           1794   \n",
       "\n",
       "                                       configuration  \n",
       "0  {'maxIterations': 10, 'writeConcurrency': 4, '...  "
      ]
     },
     "execution_count": 15,
     "metadata": {},
     "output_type": "execute_result"
    }
   ],
   "source": [
    "# Use louvain algorithm\n",
    "run_query(\"\"\"\n",
    "CALL gds.louvain.write('gots1', {writeProperty:'louvain', relationshipWeightProperty:'weight'})\n",
    "\"\"\")\n",
    "# we are writing it back to the database as we are using write"
   ]
  },
  {
   "cell_type": "code",
   "execution_count": 16,
   "id": "d606413b",
   "metadata": {},
   "outputs": [
    {
     "data": {
      "text/html": [
       "<div>\n",
       "<style scoped>\n",
       "    .dataframe tbody tr th:only-of-type {\n",
       "        vertical-align: middle;\n",
       "    }\n",
       "\n",
       "    .dataframe tbody tr th {\n",
       "        vertical-align: top;\n",
       "    }\n",
       "\n",
       "    .dataframe thead th {\n",
       "        text-align: right;\n",
       "    }\n",
       "</style>\n",
       "<table border=\"1\" class=\"dataframe\">\n",
       "  <thead>\n",
       "    <tr style=\"text-align: right;\">\n",
       "      <th></th>\n",
       "      <th>nodeCount</th>\n",
       "      <th>nodePropertiesWritten</th>\n",
       "      <th>preProcessingMillis</th>\n",
       "      <th>computeMillis</th>\n",
       "      <th>writeMillis</th>\n",
       "      <th>configuration</th>\n",
       "    </tr>\n",
       "  </thead>\n",
       "  <tbody>\n",
       "    <tr>\n",
       "      <th>0</th>\n",
       "      <td>126</td>\n",
       "      <td>126</td>\n",
       "      <td>1</td>\n",
       "      <td>79</td>\n",
       "      <td>202</td>\n",
       "      <td>{'writeConcurrency': 4, 'nodeSelfInfluence': 0...</td>\n",
       "    </tr>\n",
       "  </tbody>\n",
       "</table>\n",
       "</div>"
      ],
      "text/plain": [
       "   nodeCount  nodePropertiesWritten  preProcessingMillis  computeMillis  \\\n",
       "0        126                    126                    1             79   \n",
       "\n",
       "   writeMillis                                      configuration  \n",
       "0          202  {'writeConcurrency': 4, 'nodeSelfInfluence': 0...  "
      ]
     },
     "execution_count": 16,
     "metadata": {},
     "output_type": "execute_result"
    }
   ],
   "source": [
    "# Executing the FastRP algorithm\n",
    "run_query(\"\"\"\n",
    "CALL gds.fastRP.write('gots1', {writeProperty:'embedding', embeddingDimension:56, relationshipWeightProperty:'weight'})\n",
    "\"\"\")"
   ]
  },
  {
   "cell_type": "code",
   "execution_count": 17,
   "id": "20d6d1e3",
   "metadata": {},
   "outputs": [],
   "source": [
    "# Use TSNE to visualize embeddings\n",
    "from sklearn.manifold import TSNE\n",
    "from matplotlib import pyplot as plt\n",
    "import seaborn as sns\n",
    "\n",
    "\n",
    "def tsne(embeddings, hue=None):\n",
    "    tsne = TSNE(n_components=2, n_iter=300)\n",
    "    tsne_results = tsne.fit_transform(embeddings['embedding'].to_list())\n",
    "\n",
    "    embeddings['tsne_x'] = [x[0] for x in list(tsne_results)]\n",
    "    embeddings['tsne_y'] = [x[1] for x in list(tsne_results)]\n",
    "\n",
    "    plt.figure(figsize=(16,10))\n",
    "    sns.scatterplot(\n",
    "        x=\"tsne_x\", y=\"tsne_y\",\n",
    "        hue=hue,\n",
    "        palette=\"deep\",\n",
    "        data=embeddings,\n",
    "        legend=\"full\",\n",
    "        alpha=0.9\n",
    "    )\n",
    "    # Add captions\n",
    "    #for i in range(embeddings.shape[0]):\n",
    "    #    plt.text(x=embeddings['tsne_x'][i]+0.3,y=embeddings['tsne_y'][i]+0.3,s=embeddings.character[i], \n",
    "    #          fontdict=dict(color='black',size=10),)"
   ]
  },
  {
   "cell_type": "code",
   "execution_count": 18,
   "id": "d1c80b30",
   "metadata": {},
   "outputs": [],
   "source": [
    "tsne_input = run_query(\"\"\"\n",
    "MATCH (c:Character)\n",
    "RETURN c.name as character, c.embedding as embedding, c.louvain as hue \n",
    "\"\"\")"
   ]
  },
  {
   "cell_type": "code",
   "execution_count": 20,
   "id": "244849db",
   "metadata": {},
   "outputs": [
    {
     "data": {
      "text/html": [
       "<div>\n",
       "<style scoped>\n",
       "    .dataframe tbody tr th:only-of-type {\n",
       "        vertical-align: middle;\n",
       "    }\n",
       "\n",
       "    .dataframe tbody tr th {\n",
       "        vertical-align: top;\n",
       "    }\n",
       "\n",
       "    .dataframe thead th {\n",
       "        text-align: right;\n",
       "    }\n",
       "</style>\n",
       "<table border=\"1\" class=\"dataframe\">\n",
       "  <thead>\n",
       "    <tr style=\"text-align: right;\">\n",
       "      <th></th>\n",
       "      <th>character</th>\n",
       "      <th>embedding</th>\n",
       "      <th>hue</th>\n",
       "    </tr>\n",
       "  </thead>\n",
       "  <tbody>\n",
       "    <tr>\n",
       "      <th>0</th>\n",
       "      <td>NED</td>\n",
       "      <td>[0.1140875369310379, -0.5276080369949341, 0.21...</td>\n",
       "      <td>10</td>\n",
       "    </tr>\n",
       "    <tr>\n",
       "      <th>1</th>\n",
       "      <td>DAENERYS</td>\n",
       "      <td>[-0.015274729579687119, 0.1534349024295807, 0....</td>\n",
       "      <td>18</td>\n",
       "    </tr>\n",
       "    <tr>\n",
       "      <th>2</th>\n",
       "      <td>JON</td>\n",
       "      <td>[0.046653248369693756, -0.5181201100349426, -0...</td>\n",
       "      <td>102</td>\n",
       "    </tr>\n",
       "    <tr>\n",
       "      <th>3</th>\n",
       "      <td>LITTLEFINGER</td>\n",
       "      <td>[0.18625080585479736, -0.5020092725753784, 0.2...</td>\n",
       "      <td>10</td>\n",
       "    </tr>\n",
       "    <tr>\n",
       "      <th>4</th>\n",
       "      <td>ARYA</td>\n",
       "      <td>[0.13581830263137817, -0.49909472465515137, 0....</td>\n",
       "      <td>10</td>\n",
       "    </tr>\n",
       "  </tbody>\n",
       "</table>\n",
       "</div>"
      ],
      "text/plain": [
       "      character                                          embedding  hue\n",
       "0           NED  [0.1140875369310379, -0.5276080369949341, 0.21...   10\n",
       "1      DAENERYS  [-0.015274729579687119, 0.1534349024295807, 0....   18\n",
       "2           JON  [0.046653248369693756, -0.5181201100349426, -0...  102\n",
       "3  LITTLEFINGER  [0.18625080585479736, -0.5020092725753784, 0.2...   10\n",
       "4          ARYA  [0.13581830263137817, -0.49909472465515137, 0....   10"
      ]
     },
     "execution_count": 20,
     "metadata": {},
     "output_type": "execute_result"
    }
   ],
   "source": [
    "tsne_input.head()\n",
    "# We can store these embeddings, use them further etc."
   ]
  },
  {
   "cell_type": "code",
   "execution_count": 21,
   "id": "2a80e977",
   "metadata": {},
   "outputs": [
    {
     "name": "stderr",
     "output_type": "stream",
     "text": [
      "D:\\anaconda_dist\\lib\\site-packages\\sklearn\\manifold\\_t_sne.py:780: FutureWarning: The default initialization in TSNE will change from 'random' to 'pca' in 1.2.\n",
      "  warnings.warn(\n",
      "D:\\anaconda_dist\\lib\\site-packages\\sklearn\\manifold\\_t_sne.py:790: FutureWarning: The default learning rate in TSNE will change from 200.0 to 'auto' in 1.2.\n",
      "  warnings.warn(\n"
     ]
    },
    {
     "data": {
      "image/png": "[encoded data removed]",
      "text/plain": [
       "<Figure size 1152x720 with 1 Axes>"
      ]
     },
     "metadata": {
      "needs_background": "light"
     },
     "output_type": "display_data"
    }
   ],
   "source": [
    "tsne(tsne_input,'hue')\n",
    "# Here we can see that FastRP embeddings also give similar vectors to nodes in the same community despite of it being run \n",
    "# independent to the louvain algorithm. This is no surprise as FastRP is a community-based node embedding algorithm, \n",
    "# meaning that nodes close in the graph will be also close in the embedding space."
   ]
  },
  {
   "cell_type": "code",
   "execution_count": 22,
   "id": "41489986",
   "metadata": {},
   "outputs": [
    {
     "data": {
      "text/html": [
       "<div>\n",
       "<style scoped>\n",
       "    .dataframe tbody tr th:only-of-type {\n",
       "        vertical-align: middle;\n",
       "    }\n",
       "\n",
       "    .dataframe tbody tr th {\n",
       "        vertical-align: top;\n",
       "    }\n",
       "\n",
       "    .dataframe thead th {\n",
       "        text-align: right;\n",
       "    }\n",
       "</style>\n",
       "<table border=\"1\" class=\"dataframe\">\n",
       "  <thead>\n",
       "    <tr style=\"text-align: right;\">\n",
       "      <th></th>\n",
       "      <th>nodeProjection</th>\n",
       "      <th>relationshipProjection</th>\n",
       "      <th>graphName</th>\n",
       "      <th>nodeCount</th>\n",
       "      <th>relationshipCount</th>\n",
       "      <th>projectMillis</th>\n",
       "    </tr>\n",
       "  </thead>\n",
       "  <tbody>\n",
       "    <tr>\n",
       "      <th>0</th>\n",
       "      <td>{'Character': {'label': 'Character', 'properti...</td>\n",
       "      <td>{'__ALL__': {'orientation': 'NATURAL', 'aggreg...</td>\n",
       "      <td>knn</td>\n",
       "      <td>126</td>\n",
       "      <td>549</td>\n",
       "      <td>66</td>\n",
       "    </tr>\n",
       "  </tbody>\n",
       "</table>\n",
       "</div>"
      ],
      "text/plain": [
       "                                      nodeProjection  \\\n",
       "0  {'Character': {'label': 'Character', 'properti...   \n",
       "\n",
       "                              relationshipProjection graphName  nodeCount  \\\n",
       "0  {'__ALL__': {'orientation': 'NATURAL', 'aggreg...       knn        126   \n",
       "\n",
       "   relationshipCount  projectMillis  \n",
       "0                549             66  "
      ]
     },
     "execution_count": 22,
     "metadata": {},
     "output_type": "execute_result"
    }
   ],
   "source": [
    "run_query(\"\"\"\n",
    "CALL gds.graph.project('knn', 'Character', '*', {nodeProperties:['embedding']})\n",
    "\"\"\")"
   ]
  },
  {
   "cell_type": "code",
   "execution_count": 23,
   "id": "ae4323be",
   "metadata": {},
   "outputs": [
    {
     "data": {
      "text/plain": [
       "{'p1': 0.38733673095703125,\n",
       " 'max': 1.0000057220458984,\n",
       " 'p5': 0.4079093933105469,\n",
       " 'p90': 0.9785747528076172,\n",
       " 'p50': 0.6908588409423828,\n",
       " 'p95': 0.9897670745849609,\n",
       " 'p10': 0.4675788879394531,\n",
       " 'p75': 0.8595676422119141,\n",
       " 'p99': 0.9977779388427734,\n",
       " 'p25': 0.5612850189208984,\n",
       " 'p100': 1.0000057220458984,\n",
       " 'min': 0.3769645690917969,\n",
       " 'mean': 0.7070677114819723,\n",
       " 'stdDev': 0.18397122248203882}"
      ]
     },
     "execution_count": 23,
     "metadata": {},
     "output_type": "execute_result"
    }
   ],
   "source": [
    "run_query(\"\"\"\n",
    "CALL gds.knn.stats('knn', {nodeProperties:'embedding', topK: 1000, similarityCutoff:0.1})\n",
    "YIELD similarityDistribution\n",
    "\"\"\")['similarityDistribution'][0]"
   ]
  },
  {
   "cell_type": "code",
   "execution_count": 24,
   "id": "49f440b8",
   "metadata": {},
   "outputs": [],
   "source": [
    "df = run_query(\"\"\"\n",
    "MATCH (c1:Character)-[:INTERACTS]->(c2:Character)\n",
    "RETURN gds.similarity.euclideanDistance(c1.embedding, c2.embedding) AS distance, 'euclidian' as metric\n",
    "UNION\n",
    "MATCH (c1:Character)-[:INTERACTS]->(c2:Character)\n",
    "RETURN gds.similarity.cosine(c1.embedding, c2.embedding) AS distance, 'cosine' as metric\n",
    "\"\"\")"
   ]
  },
  {
   "cell_type": "code",
   "execution_count": 27,
   "id": "e3a4c361",
   "metadata": {},
   "outputs": [
    {
     "data": {
      "text/html": [
       "<div>\n",
       "<style scoped>\n",
       "    .dataframe tbody tr th:only-of-type {\n",
       "        vertical-align: middle;\n",
       "    }\n",
       "\n",
       "    .dataframe tbody tr th {\n",
       "        vertical-align: top;\n",
       "    }\n",
       "\n",
       "    .dataframe thead th {\n",
       "        text-align: right;\n",
       "    }\n",
       "</style>\n",
       "<table border=\"1\" class=\"dataframe\">\n",
       "  <thead>\n",
       "    <tr style=\"text-align: right;\">\n",
       "      <th></th>\n",
       "      <th>distance</th>\n",
       "      <th>metric</th>\n",
       "    </tr>\n",
       "  </thead>\n",
       "  <tbody>\n",
       "    <tr>\n",
       "      <th>492</th>\n",
       "      <td>0.696755</td>\n",
       "      <td>euclidian</td>\n",
       "    </tr>\n",
       "    <tr>\n",
       "      <th>294</th>\n",
       "      <td>0.146383</td>\n",
       "      <td>euclidian</td>\n",
       "    </tr>\n",
       "    <tr>\n",
       "      <th>1012</th>\n",
       "      <td>0.823853</td>\n",
       "      <td>cosine</td>\n",
       "    </tr>\n",
       "    <tr>\n",
       "      <th>239</th>\n",
       "      <td>0.483534</td>\n",
       "      <td>euclidian</td>\n",
       "    </tr>\n",
       "    <tr>\n",
       "      <th>559</th>\n",
       "      <td>0.738395</td>\n",
       "      <td>cosine</td>\n",
       "    </tr>\n",
       "  </tbody>\n",
       "</table>\n",
       "</div>"
      ],
      "text/plain": [
       "      distance     metric\n",
       "492   0.696755  euclidian\n",
       "294   0.146383  euclidian\n",
       "1012  0.823853     cosine\n",
       "239   0.483534  euclidian\n",
       "559   0.738395     cosine"
      ]
     },
     "execution_count": 27,
     "metadata": {},
     "output_type": "execute_result"
    }
   ],
   "source": [
    "df.sample(5)"
   ]
  },
  {
   "cell_type": "code",
   "execution_count": 28,
   "id": "7f03e91b",
   "metadata": {
    "scrolled": true
   },
   "outputs": [
    {
     "data": {
      "text/plain": [
       "<seaborn.axisgrid.FacetGrid at 0x1919f5f6df0>"
      ]
     },
     "execution_count": 28,
     "metadata": {},
     "output_type": "execute_result"
    },
    {
     "data": {
      "image/png": "[encoded data removed]",
      "text/plain": [
       "<Figure size 720x360 with 2 Axes>"
      ]
     },
     "metadata": {
      "needs_background": "light"
     },
     "output_type": "display_data"
    }
   ],
   "source": [
    "sns.displot(data=df, x='distance', col='metric')"
   ]
  },
  {
   "cell_type": "code",
   "execution_count": 39,
   "id": "b1844d06",
   "metadata": {},
   "outputs": [
    {
     "name": "stderr",
     "output_type": "stream",
     "text": [
      "C:\\Users\\aakash\\AppData\\Local\\Temp/ipykernel_4564/2107066233.py:1: UserWarning: Boolean Series key will be reindexed to match DataFrame index.\n",
      "  len(df[df['metric']=='cosine'][df['distance']>0.7]) # and there are 549 edges\n"
     ]
    },
    {
     "data": {
      "text/plain": [
       "468"
      ]
     },
     "execution_count": 39,
     "metadata": {},
     "output_type": "execute_result"
    }
   ],
   "source": [
    "len(df[df['metric']=='cosine'][df['distance']>0.7]) # and there are 549 edges\n",
    "# This means that most of the node pairs that have an edge have similar embeddings\n",
    "# As we can see 468/549 node pairs have embeddings cosine similarity/ dot product > 0.7\n",
    "# 425/549 (77%) of them have cosine similarity > 0.8\n",
    "# 380/549 (69%) of them have cosine similarity > 0.9\n",
    "# 213/549 (38%) of them have cosine similarity > 0.97"
   ]
  },
  {
   "cell_type": "code",
   "execution_count": 29,
   "id": "a46bc031",
   "metadata": {},
   "outputs": [
    {
     "data": {
      "text/html": [
       "<div>\n",
       "<style scoped>\n",
       "    .dataframe tbody tr th:only-of-type {\n",
       "        vertical-align: middle;\n",
       "    }\n",
       "\n",
       "    .dataframe tbody tr th {\n",
       "        vertical-align: top;\n",
       "    }\n",
       "\n",
       "    .dataframe thead th {\n",
       "        text-align: right;\n",
       "    }\n",
       "</style>\n",
       "<table border=\"1\" class=\"dataframe\">\n",
       "  <thead>\n",
       "    <tr style=\"text-align: right;\">\n",
       "      <th></th>\n",
       "    </tr>\n",
       "  </thead>\n",
       "  <tbody>\n",
       "  </tbody>\n",
       "</table>\n",
       "</div>"
      ],
      "text/plain": [
       "Empty DataFrame\n",
       "Columns: []\n",
       "Index: []"
      ]
     },
     "execution_count": 29,
     "metadata": {},
     "output_type": "execute_result"
    }
   ],
   "source": [
    "run_query(\"\"\"\n",
    "MATCH p=(c1:Character)-[i:INTERACTS]->(c2:Character)\n",
    "WHERE gds.similarity.cosine(c1.embedding, c2.embedding) < 0.5\n",
    "SET i.show = True\n",
    "\"\"\")"
   ]
  },
  {
   "cell_type": "markdown",
   "id": "ad0fb2d9",
   "metadata": {},
   "source": [
    "It seems that pairs of connected nodes with a lower cosine similarity mainly occur when we have connections between various clusters or communities in the network."
   ]
  },
  {
   "cell_type": "code",
   "execution_count": 54,
   "id": "7aefcf84",
   "metadata": {},
   "outputs": [],
   "source": [
    "not_similar = run_query(\"\"\"\n",
    "MATCH (c1:Character)-[:INTERACTS]->(c2:Character)\n",
    "WITH c1 , c2 \n",
    "WITH gds.similarity.cosine(c1.embedding, c2.embedding) as cosine_distance,c1.name as c1name, c2.name as c2name\n",
    "WHERE cosine_distance<0.3\n",
    "RETURN cosine_distance, c1name, c2name\n",
    "\"\"\")"
   ]
  },
  {
   "cell_type": "code",
   "execution_count": 55,
   "id": "fd4b37e0",
   "metadata": {},
   "outputs": [
    {
     "data": {
      "text/html": [
       "<div>\n",
       "<style scoped>\n",
       "    .dataframe tbody tr th:only-of-type {\n",
       "        vertical-align: middle;\n",
       "    }\n",
       "\n",
       "    .dataframe tbody tr th {\n",
       "        vertical-align: top;\n",
       "    }\n",
       "\n",
       "    .dataframe thead th {\n",
       "        text-align: right;\n",
       "    }\n",
       "</style>\n",
       "<table border=\"1\" class=\"dataframe\">\n",
       "  <thead>\n",
       "    <tr style=\"text-align: right;\">\n",
       "      <th></th>\n",
       "      <th>cosine_distance</th>\n",
       "      <th>c1name</th>\n",
       "      <th>c2name</th>\n",
       "    </tr>\n",
       "  </thead>\n",
       "  <tbody>\n",
       "    <tr>\n",
       "      <th>0</th>\n",
       "      <td>0.113982</td>\n",
       "      <td>JORAH</td>\n",
       "      <td>NED</td>\n",
       "    </tr>\n",
       "    <tr>\n",
       "      <th>1</th>\n",
       "      <td>0.149135</td>\n",
       "      <td>DAENERYS</td>\n",
       "      <td>NED</td>\n",
       "    </tr>\n",
       "    <tr>\n",
       "      <th>2</th>\n",
       "      <td>-0.017000</td>\n",
       "      <td>CATELYN</td>\n",
       "      <td>DAENERYS</td>\n",
       "    </tr>\n",
       "    <tr>\n",
       "      <th>3</th>\n",
       "      <td>0.263767</td>\n",
       "      <td>JEOR</td>\n",
       "      <td>JOFFREY</td>\n",
       "    </tr>\n",
       "    <tr>\n",
       "      <th>4</th>\n",
       "      <td>0.189686</td>\n",
       "      <td>DAENERYS</td>\n",
       "      <td>SANSA</td>\n",
       "    </tr>\n",
       "    <tr>\n",
       "      <th>5</th>\n",
       "      <td>0.253246</td>\n",
       "      <td>AERYS</td>\n",
       "      <td>JORAH</td>\n",
       "    </tr>\n",
       "    <tr>\n",
       "      <th>6</th>\n",
       "      <td>0.142340</td>\n",
       "      <td>NED</td>\n",
       "      <td>PYP</td>\n",
       "    </tr>\n",
       "    <tr>\n",
       "      <th>7</th>\n",
       "      <td>0.174631</td>\n",
       "      <td>DROGO</td>\n",
       "      <td>ROBERT</td>\n",
       "    </tr>\n",
       "    <tr>\n",
       "      <th>8</th>\n",
       "      <td>0.265020</td>\n",
       "      <td>JEOR</td>\n",
       "      <td>ROBERT</td>\n",
       "    </tr>\n",
       "    <tr>\n",
       "      <th>9</th>\n",
       "      <td>0.197297</td>\n",
       "      <td>DAENERYS</td>\n",
       "      <td>ROBERT</td>\n",
       "    </tr>\n",
       "    <tr>\n",
       "      <th>10</th>\n",
       "      <td>0.200078</td>\n",
       "      <td>JORAH</td>\n",
       "      <td>VARYS</td>\n",
       "    </tr>\n",
       "    <tr>\n",
       "      <th>11</th>\n",
       "      <td>0.228984</td>\n",
       "      <td>DAENERYS</td>\n",
       "      <td>VARYS</td>\n",
       "    </tr>\n",
       "    <tr>\n",
       "      <th>12</th>\n",
       "      <td>0.205040</td>\n",
       "      <td>ROBERT</td>\n",
       "      <td>VISERYS</td>\n",
       "    </tr>\n",
       "  </tbody>\n",
       "</table>\n",
       "</div>"
      ],
      "text/plain": [
       "    cosine_distance    c1name    c2name\n",
       "0          0.113982     JORAH       NED\n",
       "1          0.149135  DAENERYS       NED\n",
       "2         -0.017000   CATELYN  DAENERYS\n",
       "3          0.263767      JEOR   JOFFREY\n",
       "4          0.189686  DAENERYS     SANSA\n",
       "5          0.253246     AERYS     JORAH\n",
       "6          0.142340       NED       PYP\n",
       "7          0.174631     DROGO    ROBERT\n",
       "8          0.265020      JEOR    ROBERT\n",
       "9          0.197297  DAENERYS    ROBERT\n",
       "10         0.200078     JORAH     VARYS\n",
       "11         0.228984  DAENERYS     VARYS\n",
       "12         0.205040    ROBERT   VISERYS"
      ]
     },
     "execution_count": 55,
     "metadata": {},
     "output_type": "execute_result"
    }
   ],
   "source": [
    "not_similar"
   ]
  },
  {
   "cell_type": "code",
   "execution_count": 56,
   "id": "70b5640d",
   "metadata": {},
   "outputs": [],
   "source": [
    "# Cosine combiner\n",
    "def generate_links(combiner, predictedRelType):\n",
    "    # Delete all graph models & drop all named graphs\n",
    "    run_query(\"\"\"\n",
    "    CALL gds.graph.list() YIELD graphName\n",
    "    CALL gds.graph.drop(graphName) YIELD graphName as done\n",
    "    RETURN distinct 'dropped named graphs' as result\n",
    "    UNION\n",
    "    CALL gds.beta.model.list() YIELD modelInfo\n",
    "    CALL gds.beta.model.drop(modelInfo.modelName) YIELD modelInfo as done\n",
    "    RETURN distinct 'dropped ML models' as result\n",
    "    UNION \n",
    "    CALL gds.beta.pipeline.list() YIELD pipelineName\n",
    "    CALL gds.beta.pipeline.drop(pipelineName) YIELD pipelineName AS done\n",
    "    RETURN distinct 'dropped pipelines' AS result\n",
    "    \"\"\")\n",
    "    # Define a new LP pipeline\n",
    "    run_query(\"\"\"\n",
    "    CALL gds.beta.pipeline.linkPrediction.create('lp-pipeline')\n",
    "    \"\"\")\n",
    "    # Define feature combiner\n",
    "    run_query(f\"\"\"\n",
    "    CALL gds.beta.pipeline.linkPrediction.addFeature('lp-pipeline', '{combiner}', {{\n",
    "      nodeProperties: ['embedding']\n",
    "    }}) YIELD featureSteps;\n",
    "    \"\"\")\n",
    "    # Define train-test split\n",
    "    run_query(\"\"\"\n",
    "    CALL gds.beta.pipeline.linkPrediction.configureSplit(\n",
    "     'lp-pipeline', {  \n",
    "       testFraction: 0.3,\n",
    "       trainFraction: 0.6,\n",
    "       validationFolds: 7})\n",
    "    YIELD splitConfig;\n",
    "    \"\"\")\n",
    "    # Configure LP model params\n",
    "    run_query(\"\"\"\n",
    "    CALL gds.beta.pipeline.linkPrediction.addLogisticRegression(\n",
    "      'lp-pipeline',  \n",
    "        {tolerance: 0.001, maxEpochs: 500})\n",
    "    YIELD parameterSpace;\n",
    "    \"\"\")\n",
    "    # Add multiple models\n",
    "    run_query(\"\"\"\n",
    "    CALL gds.beta.pipeline.linkPrediction.addLogisticRegression(\n",
    "      'lp-pipeline',  \n",
    "        {penalty:0.001, tolerance: 0.01,  maxEpochs: 500})\n",
    "    YIELD parameterSpace;\n",
    "    \"\"\")\n",
    "    run_query(\"\"\"\n",
    "    CALL gds.beta.pipeline.linkPrediction.addLogisticRegression(\n",
    "      'lp-pipeline',  \n",
    "        {penalty:0.01, tolerance: 0.01, maxEpochs: 500})\n",
    "    YIELD parameterSpace;\n",
    "    \"\"\")\n",
    "    # Construct named graph\n",
    "    run_query(\"\"\"\n",
    "    CALL gds.graph.project('lp-graph', \n",
    "      'Character', \n",
    "      {INTERACTS:{orientation:'UNDIRECTED'}},\n",
    "      {nodeProperties:'embedding'});\n",
    "    \"\"\")\n",
    "    # Train the model\n",
    "    run_query(\"\"\"\n",
    "    CALL gds.beta.pipeline.linkPrediction.train('lp-graph', \n",
    "  {pipeline: 'lp-pipeline',\n",
    "   modelName: 'lp-model',\n",
    "   randomSeed: 42})\n",
    "    YIELD modelInfo\n",
    "    RETURN  modelInfo.bestParameters AS winningModel,  modelInfo.metrics.AUCPR.outerTrain AS trainGraphScore,  modelInfo.metrics.AUCPR.test AS testGraphScore;\n",
    "    \"\"\")\n",
    "    # Predict new relationships\n",
    "    run_query(\"\"\"\n",
    "    CALL gds.beta.pipeline.linkPrediction.predict.mutate('lp-graph', \n",
    "      {modelName: 'lp-model',  \n",
    "       mutateRelationshipType: 'INTERACTS_PREDICTED',\n",
    "       topN: 20,\n",
    "       threshold: 0.45})\n",
    "    YIELD relationshipsWritten;\n",
    "    \"\"\")\n",
    "    # Store relationships back to graph\n",
    "    predicted_links = run_query(f\"\"\"\n",
    "    CALL gds.graph.streamRelationshipProperty('lp-graph', \n",
    "      'probability', \n",
    "      ['INTERACTS_PREDICTED'])\n",
    "    YIELD  sourceNodeId, targetNodeId, propertyValue as probability\n",
    "    WHERE sourceNodeId < targetNodeId\n",
    "    MATCH (s),(t)\n",
    "    WHERE id(s)=sourceNodeId AND id(t)=targetNodeId\n",
    "    MERGE (s)-[:{predictedRelType}]-(t)\n",
    "    RETURN avg(gds.similarity.euclideanDistance(s.embedding, t.embedding)) AS euclidian_similarity,\n",
    "           avg(gds.similarity.cosine(s.embedding, t.embedding)) AS cosine_similarity\n",
    "           \n",
    "    \"\"\")\n",
    "    return predicted_links"
   ]
  },
  {
   "cell_type": "code",
   "execution_count": 58,
   "id": "8a141098",
   "metadata": {},
   "outputs": [
    {
     "data": {
      "text/html": [
       "<div>\n",
       "<style scoped>\n",
       "    .dataframe tbody tr th:only-of-type {\n",
       "        vertical-align: middle;\n",
       "    }\n",
       "\n",
       "    .dataframe tbody tr th {\n",
       "        vertical-align: top;\n",
       "    }\n",
       "\n",
       "    .dataframe thead th {\n",
       "        text-align: right;\n",
       "    }\n",
       "</style>\n",
       "<table border=\"1\" class=\"dataframe\">\n",
       "  <thead>\n",
       "    <tr style=\"text-align: right;\">\n",
       "      <th></th>\n",
       "      <th>euclidian_similarity</th>\n",
       "      <th>cosine_similarity</th>\n",
       "    </tr>\n",
       "  </thead>\n",
       "  <tbody>\n",
       "    <tr>\n",
       "      <th>0</th>\n",
       "      <td>0.051254</td>\n",
       "      <td>0.999454</td>\n",
       "    </tr>\n",
       "  </tbody>\n",
       "</table>\n",
       "</div>"
      ],
      "text/plain": [
       "   euclidian_similarity  cosine_similarity\n",
       "0              0.051254           0.999454"
      ]
     },
     "execution_count": 58,
     "metadata": {},
     "output_type": "execute_result"
    }
   ],
   "source": [
    "generate_links('cosine', 'PREDICTED_COSINE')"
   ]
  },
  {
   "cell_type": "code",
   "execution_count": 59,
   "id": "001173e1",
   "metadata": {},
   "outputs": [
    {
     "data": {
      "text/html": [
       "<div>\n",
       "<style scoped>\n",
       "    .dataframe tbody tr th:only-of-type {\n",
       "        vertical-align: middle;\n",
       "    }\n",
       "\n",
       "    .dataframe tbody tr th {\n",
       "        vertical-align: top;\n",
       "    }\n",
       "\n",
       "    .dataframe thead th {\n",
       "        text-align: right;\n",
       "    }\n",
       "</style>\n",
       "<table border=\"1\" class=\"dataframe\">\n",
       "  <thead>\n",
       "    <tr style=\"text-align: right;\">\n",
       "      <th></th>\n",
       "      <th>euclidian_similarity</th>\n",
       "      <th>cosine_similarity</th>\n",
       "    </tr>\n",
       "  </thead>\n",
       "  <tbody>\n",
       "    <tr>\n",
       "      <th>0</th>\n",
       "      <td>0.045057</td>\n",
       "      <td>0.999341</td>\n",
       "    </tr>\n",
       "  </tbody>\n",
       "</table>\n",
       "</div>"
      ],
      "text/plain": [
       "   euclidian_similarity  cosine_similarity\n",
       "0              0.045057           0.999341"
      ]
     },
     "execution_count": 59,
     "metadata": {},
     "output_type": "execute_result"
    }
   ],
   "source": [
    "generate_links('l2', 'PREDICTED_L2')"
   ]
  },
  {
   "cell_type": "code",
   "execution_count": 60,
   "id": "eda344f9",
   "metadata": {},
   "outputs": [
    {
     "data": {
      "text/html": [
       "<div>\n",
       "<style scoped>\n",
       "    .dataframe tbody tr th:only-of-type {\n",
       "        vertical-align: middle;\n",
       "    }\n",
       "\n",
       "    .dataframe tbody tr th {\n",
       "        vertical-align: top;\n",
       "    }\n",
       "\n",
       "    .dataframe thead th {\n",
       "        text-align: right;\n",
       "    }\n",
       "</style>\n",
       "<table border=\"1\" class=\"dataframe\">\n",
       "  <thead>\n",
       "    <tr style=\"text-align: right;\">\n",
       "      <th></th>\n",
       "      <th>euclidian_similarity</th>\n",
       "      <th>cosine_similarity</th>\n",
       "    </tr>\n",
       "  </thead>\n",
       "  <tbody>\n",
       "    <tr>\n",
       "      <th>0</th>\n",
       "      <td>0.207243</td>\n",
       "      <td>0.994216</td>\n",
       "    </tr>\n",
       "  </tbody>\n",
       "</table>\n",
       "</div>"
      ],
      "text/plain": [
       "   euclidian_similarity  cosine_similarity\n",
       "0              0.207243           0.994216"
      ]
     },
     "execution_count": 60,
     "metadata": {},
     "output_type": "execute_result"
    }
   ],
   "source": [
    "generate_links('hadamard', 'PREDICTED_HADAMARD')"
   ]
  },
  {
   "cell_type": "code",
   "execution_count": 61,
   "id": "dd2f211e",
   "metadata": {},
   "outputs": [],
   "source": [
    "# Multiple link feature combiners\n",
    "def generate_pa_links(combiner, predictedRelType, scale=True):\n",
    "    # Delete all graph models & drop all named graphs\n",
    "    run_query(\"\"\"\n",
    "    CALL gds.graph.list() YIELD graphName\n",
    "    CALL gds.graph.drop(graphName) YIELD graphName as done\n",
    "    RETURN distinct 'dropped named graphs' as result\n",
    "    UNION\n",
    "    CALL gds.beta.model.list() YIELD modelInfo\n",
    "    CALL gds.beta.model.drop(modelInfo.modelName) YIELD modelInfo as done\n",
    "    RETURN distinct 'dropped ML models' as result\n",
    "    UNION \n",
    "    CALL gds.beta.pipeline.list() YIELD pipelineName\n",
    "    CALL gds.beta.pipeline.drop(pipelineName) YIELD pipelineName AS done\n",
    "    RETURN distinct 'dropped pipelines' AS result\n",
    "    \"\"\")\n",
    "    # Define a new LP pipeline\n",
    "    run_query(\"\"\"\n",
    "    CALL gds.beta.pipeline.linkPrediction.create('lp-pipeline')\n",
    "    \"\"\")\n",
    "    # Get the degree value of each node\n",
    "    run_query(\"\"\"\n",
    "    CALL gds.beta.pipeline.linkPrediction.addNodeProperty('lp-pipeline', 'degree', {\n",
    "          mutateProperty: 'degree'\n",
    "    })\"\"\")\n",
    "    if scale:\n",
    "        # Scale the degree using minmax scaler\n",
    "        run_query(\"\"\"\n",
    "        CALL gds.beta.pipeline.linkPrediction.addNodeProperty('lp-pipeline', 'alpha.scaleProperties', {\n",
    "              nodeProperties: ['degree'],\n",
    "              mutateProperty: 'scaledDegree',\n",
    "              scaler:'MinMax'\n",
    "        })\n",
    "        \"\"\")\n",
    "        # Define HADAMARD combiner for node degree combiner\n",
    "        run_query(\"\"\"\n",
    "        CALL gds.beta.pipeline.linkPrediction.addFeature('lp-pipeline', 'HADAMARD', {\n",
    "          nodeProperties: ['scaledDegree']\n",
    "        }) YIELD featureSteps;\n",
    "        \"\"\")\n",
    "    else:\n",
    "        run_query(\"\"\"\n",
    "        CALL gds.beta.pipeline.linkPrediction.addFeature('lp-pipeline', 'HADAMARD', {\n",
    "          nodeProperties: ['degree']\n",
    "        }) YIELD featureSteps;\"\"\")\n",
    "        \n",
    "    # Define feature combiner\n",
    "    run_query(f\"\"\"\n",
    "    CALL gds.beta.pipeline.linkPrediction.addFeature('lp-pipeline', '{combiner}', {{\n",
    "      nodeProperties: ['embedding']\n",
    "    }}) YIELD featureSteps;\n",
    "    \"\"\")\n",
    "    # Define train-test split\n",
    "    run_query(\"\"\"\n",
    "    CALL gds.beta.pipeline.linkPrediction.configureSplit(\n",
    "     'lp-pipeline', {  \n",
    "       testFraction: 0.3,\n",
    "       trainFraction: 0.6,\n",
    "       validationFolds: 7})\n",
    "    YIELD splitConfig;\n",
    "    \"\"\")\n",
    "    # Configure LP model params\n",
    "    run_query(\"\"\"\n",
    "    CALL gds.beta.pipeline.linkPrediction.addLogisticRegression(\n",
    "      'lp-pipeline',  \n",
    "        {tolerance: 0.001, maxEpochs: 500})\n",
    "    YIELD parameterSpace;\n",
    "    \"\"\")\n",
    "    # Add multiple models\n",
    "    run_query(\"\"\"\n",
    "    CALL gds.beta.pipeline.linkPrediction.addLogisticRegression(\n",
    "      'lp-pipeline',  \n",
    "        {penalty:0.001, tolerance: 0.01,  maxEpochs: 500})\n",
    "    YIELD parameterSpace;\n",
    "    \"\"\")\n",
    "    run_query(\"\"\"\n",
    "    CALL gds.beta.pipeline.linkPrediction.addLogisticRegression(\n",
    "      'lp-pipeline',  \n",
    "        {penalty:0.01, tolerance: 0.01, maxEpochs: 500})\n",
    "    YIELD parameterSpace;\n",
    "    \"\"\")\n",
    "    # Construct named graph\n",
    "    run_query(\"\"\"\n",
    "    CALL gds.graph.project('lp-graph', \n",
    "      'Character', \n",
    "      {INTERACTS:{orientation:'UNDIRECTED'}},\n",
    "      {nodeProperties:'embedding'});\n",
    "    \"\"\")\n",
    "    # Train the model\n",
    "    run_query(\"\"\"\n",
    "    CALL gds.beta.pipeline.linkPrediction.train('lp-graph', \n",
    "  {pipeline: 'lp-pipeline',\n",
    "   modelName: 'lp-model',\n",
    "   randomSeed: 42})\n",
    "    YIELD modelInfo\n",
    "    RETURN  modelInfo.bestParameters AS winningModel,  modelInfo.metrics.AUCPR.outerTrain AS trainGraphScore,  modelInfo.metrics.AUCPR.test AS testGraphScore;\n",
    "    \"\"\")\n",
    "    # Predict new relationships\n",
    "    run_query(\"\"\"\n",
    "    CALL gds.beta.pipeline.linkPrediction.predict.mutate('lp-graph', \n",
    "      {modelName: 'lp-model',  \n",
    "       mutateRelationshipType: 'INTERACTS_PREDICTED',\n",
    "       topN: 20,\n",
    "       threshold: 0.45})\n",
    "    YIELD relationshipsWritten;\n",
    "    \"\"\")\n",
    "    # Store relationships back to graph\n",
    "    predicted_links = run_query(f\"\"\"\n",
    "    CALL gds.graph.streamRelationshipProperty('lp-graph', \n",
    "      'probability', \n",
    "      ['INTERACTS_PREDICTED'])\n",
    "    YIELD  sourceNodeId, targetNodeId, propertyValue as probability\n",
    "    WHERE sourceNodeId < targetNodeId\n",
    "    MATCH (s),(t)\n",
    "    WHERE id(s)=sourceNodeId AND id(t)=targetNodeId\n",
    "    MERGE (s)-[:{predictedRelType}]-(t)\n",
    "    RETURN avg(gds.similarity.euclideanDistance(s.embedding, t.embedding)) AS euclidian_similarity,\n",
    "           avg(gds.similarity.cosine(s.embedding, t.embedding)) AS cosine_similarity\n",
    "    \"\"\")\n",
    "    return predicted_links"
   ]
  },
  {
   "cell_type": "code",
   "execution_count": 62,
   "id": "eef93d30",
   "metadata": {},
   "outputs": [
    {
     "data": {
      "text/html": [
       "<div>\n",
       "<style scoped>\n",
       "    .dataframe tbody tr th:only-of-type {\n",
       "        vertical-align: middle;\n",
       "    }\n",
       "\n",
       "    .dataframe tbody tr th {\n",
       "        vertical-align: top;\n",
       "    }\n",
       "\n",
       "    .dataframe thead th {\n",
       "        text-align: right;\n",
       "    }\n",
       "</style>\n",
       "<table border=\"1\" class=\"dataframe\">\n",
       "  <thead>\n",
       "    <tr style=\"text-align: right;\">\n",
       "      <th></th>\n",
       "      <th>euclidian_similarity</th>\n",
       "      <th>cosine_similarity</th>\n",
       "    </tr>\n",
       "  </thead>\n",
       "  <tbody>\n",
       "    <tr>\n",
       "      <th>0</th>\n",
       "      <td>0.541043</td>\n",
       "      <td>0.959421</td>\n",
       "    </tr>\n",
       "  </tbody>\n",
       "</table>\n",
       "</div>"
      ],
      "text/plain": [
       "   euclidian_similarity  cosine_similarity\n",
       "0              0.541043           0.959421"
      ]
     },
     "execution_count": 62,
     "metadata": {},
     "output_type": "execute_result"
    }
   ],
   "source": [
    "generate_pa_links('cosine', 'PA_COSINE')"
   ]
  },
  {
   "cell_type": "code",
   "execution_count": 63,
   "id": "1d4c94df",
   "metadata": {},
   "outputs": [
    {
     "data": {
      "text/html": [
       "<div>\n",
       "<style scoped>\n",
       "    .dataframe tbody tr th:only-of-type {\n",
       "        vertical-align: middle;\n",
       "    }\n",
       "\n",
       "    .dataframe tbody tr th {\n",
       "        vertical-align: top;\n",
       "    }\n",
       "\n",
       "    .dataframe thead th {\n",
       "        text-align: right;\n",
       "    }\n",
       "</style>\n",
       "<table border=\"1\" class=\"dataframe\">\n",
       "  <thead>\n",
       "    <tr style=\"text-align: right;\">\n",
       "      <th></th>\n",
       "      <th>euclidian_similarity</th>\n",
       "      <th>cosine_similarity</th>\n",
       "    </tr>\n",
       "  </thead>\n",
       "  <tbody>\n",
       "    <tr>\n",
       "      <th>0</th>\n",
       "      <td>0.052522</td>\n",
       "      <td>0.99897</td>\n",
       "    </tr>\n",
       "  </tbody>\n",
       "</table>\n",
       "</div>"
      ],
      "text/plain": [
       "   euclidian_similarity  cosine_similarity\n",
       "0              0.052522            0.99897"
      ]
     },
     "execution_count": 63,
     "metadata": {},
     "output_type": "execute_result"
    }
   ],
   "source": [
    "generate_pa_links('l2', 'PA_L2')"
   ]
  },
  {
   "cell_type": "code",
   "execution_count": 64,
   "id": "42d7d63a",
   "metadata": {},
   "outputs": [
    {
     "data": {
      "text/html": [
       "<div>\n",
       "<style scoped>\n",
       "    .dataframe tbody tr th:only-of-type {\n",
       "        vertical-align: middle;\n",
       "    }\n",
       "\n",
       "    .dataframe tbody tr th {\n",
       "        vertical-align: top;\n",
       "    }\n",
       "\n",
       "    .dataframe thead th {\n",
       "        text-align: right;\n",
       "    }\n",
       "</style>\n",
       "<table border=\"1\" class=\"dataframe\">\n",
       "  <thead>\n",
       "    <tr style=\"text-align: right;\">\n",
       "      <th></th>\n",
       "      <th>euclidian_similarity</th>\n",
       "      <th>cosine_similarity</th>\n",
       "    </tr>\n",
       "  </thead>\n",
       "  <tbody>\n",
       "    <tr>\n",
       "      <th>0</th>\n",
       "      <td>2.046423</td>\n",
       "      <td>0.396348</td>\n",
       "    </tr>\n",
       "  </tbody>\n",
       "</table>\n",
       "</div>"
      ],
      "text/plain": [
       "   euclidian_similarity  cosine_similarity\n",
       "0              2.046423           0.396348"
      ]
     },
     "execution_count": 64,
     "metadata": {},
     "output_type": "execute_result"
    }
   ],
   "source": [
    "generate_pa_links('l2', 'PA_L2_NOTSCALED1', False)"
   ]
  },
  {
   "cell_type": "code",
   "execution_count": 65,
   "id": "174b756f",
   "metadata": {},
   "outputs": [
    {
     "data": {
      "text/html": [
       "<div>\n",
       "<style scoped>\n",
       "    .dataframe tbody tr th:only-of-type {\n",
       "        vertical-align: middle;\n",
       "    }\n",
       "\n",
       "    .dataframe tbody tr th {\n",
       "        vertical-align: top;\n",
       "    }\n",
       "\n",
       "    .dataframe thead th {\n",
       "        text-align: right;\n",
       "    }\n",
       "</style>\n",
       "<table border=\"1\" class=\"dataframe\">\n",
       "  <thead>\n",
       "    <tr style=\"text-align: right;\">\n",
       "      <th></th>\n",
       "      <th>euclidian_similarity</th>\n",
       "      <th>cosine_similarity</th>\n",
       "    </tr>\n",
       "  </thead>\n",
       "  <tbody>\n",
       "    <tr>\n",
       "      <th>0</th>\n",
       "      <td>0.222227</td>\n",
       "      <td>0.993236</td>\n",
       "    </tr>\n",
       "  </tbody>\n",
       "</table>\n",
       "</div>"
      ],
      "text/plain": [
       "   euclidian_similarity  cosine_similarity\n",
       "0              0.222227           0.993236"
      ]
     },
     "execution_count": 65,
     "metadata": {},
     "output_type": "execute_result"
    }
   ],
   "source": [
    "generate_pa_links('hadamard', 'PA_HADAMARD')"
   ]
  },
  {
   "cell_type": "code",
   "execution_count": null,
   "id": "3240ec16",
   "metadata": {},
   "outputs": [],
   "source": []
  }
 ],
 "metadata": {
  "kernelspec": {
   "display_name": "Python 3",
   "language": "python",
   "name": "python3"
  },
  "language_info": {
   "codemirror_mode": {
    "name": "ipython",
    "version": 3
   },
   "file_extension": ".py",
   "mimetype": "text/x-python",
   "name": "python",
   "nbconvert_exporter": "python",
   "pygments_lexer": "ipython3",
   "version": "3.8.11"
  }
 },
 "nbformat": 4,
 "nbformat_minor": 5
}
